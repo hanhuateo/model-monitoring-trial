{
 "cells": [
  {
   "cell_type": "code",
   "execution_count": 1,
   "metadata": {},
   "outputs": [],
   "source": [
    "from src.auto_statstest import StatsTest\n",
    "from src.statstest import *\n",
    "\n",
    "np.random.seed(14)"
   ]
  },
  {
   "cell_type": "code",
   "execution_count": 2,
   "metadata": {},
   "outputs": [
    {
     "name": "stdout",
     "output_type": "stream",
     "text": [
      "<class 'pandas.core.frame.DataFrame'>\n",
      "RangeIndex: 10000 entries, 0 to 9999\n",
      "Data columns (total 12 columns):\n",
      " #   Column                          Non-Null Count  Dtype  \n",
      "---  ------                          --------------  -----  \n",
      " 0   normal1                         10000 non-null  float64\n",
      " 1   normal2                         10000 non-null  float64\n",
      " 2   normal3                         10000 non-null  float64\n",
      " 3   non-normal                      10000 non-null  float64\n",
      " 4   categorical_2_levels1           10000 non-null  object \n",
      " 5   dependent_categorical_3_levels  10000 non-null  object \n",
      " 6   categorical_2_levels2           10000 non-null  object \n",
      " 7   categorical_multi_levels        10000 non-null  object \n",
      " 8   diff_mean_normal_samples        10000 non-null  float64\n",
      " 9   categorical_fishers             10000 non-null  object \n",
      " 10  categorical_nofishers           10000 non-null  object \n",
      " 11  boolean                         10000 non-null  bool   \n",
      "dtypes: bool(1), float64(5), object(6)\n",
      "memory usage: 869.3+ KB\n"
     ]
    }
   ],
   "source": [
    "# import datasets\n",
    "\n",
    "df = pd.read_csv(\"synthetic_data.csv\") # synthetic dataset to showcase various cases below\n",
    "df2 = pd.read_csv(\"case_control.csv\")\n",
    "\n",
    "df.info()"
   ]
  },
  {
   "cell_type": "markdown",
   "metadata": {},
   "source": [
    "# AUTOSTATSTEST"
   ]
  },
  {
   "cell_type": "markdown",
   "metadata": {},
   "source": [
    "*1. Create class instance - StatsTest*\n",
    "\n",
    "parameter 1 = data (in pandas dataframe/numpy array)\n",
    "\n",
    "parameter 2 = level of significance (optional)"
   ]
  },
  {
   "cell_type": "code",
   "execution_count": 3,
   "metadata": {},
   "outputs": [],
   "source": [
    "test = StatsTest(df) # default level of significance = 0.05\n",
    "test2 = StatsTest(df, alpha = 0.2)"
   ]
  },
  {
   "cell_type": "markdown",
   "metadata": {},
   "source": [
    "*2. Call class method - autostatstest*\n",
    "\n",
    "parameter 1 = dependent variable \n",
    "\n",
    "parameter 2 = independent variable "
   ]
  },
  {
   "cell_type": "markdown",
   "metadata": {},
   "source": [
    "*3. View & retrieve stored results (if needed)*"
   ]
  },
  {
   "cell_type": "markdown",
   "metadata": {},
   "source": [
    "**EXAMPLE CASES**"
   ]
  },
  {
   "cell_type": "code",
   "execution_count": 4,
   "metadata": {},
   "outputs": [
    {
     "ename": "ValueError",
     "evalue": "Input column 'normal' is not in the dataset. Please try again.",
     "output_type": "error",
     "traceback": [
      "\u001b[1;31m---------------------------------------------------------------------------\u001b[0m",
      "\u001b[1;31mValueError\u001b[0m                                Traceback (most recent call last)",
      "Cell \u001b[1;32mIn[4], line 3\u001b[0m\n\u001b[0;32m      1\u001b[0m \u001b[39m# case 1 - column does not exist in dataset\u001b[39;00m\n\u001b[1;32m----> 3\u001b[0m result1 \u001b[39m=\u001b[39m test\u001b[39m.\u001b[39;49mautostatstest(\u001b[39m\"\u001b[39;49m\u001b[39mnormal1\u001b[39;49m\u001b[39m\"\u001b[39;49m, \u001b[39m\"\u001b[39;49m\u001b[39mnormal\u001b[39;49m\u001b[39m\"\u001b[39;49m)\n",
      "File \u001b[1;32mc:\\Users\\Lam Hao Fah\\OneDrive\\Desktop\\intern\\statstest\\statistical_testing\\src\\auto_statstest.py:25\u001b[0m, in \u001b[0;36mStatsTest.autostatstest\u001b[1;34m(self, verbose, *columns)\u001b[0m\n\u001b[0;32m     23\u001b[0m \u001b[39mfor\u001b[39;00m column \u001b[39min\u001b[39;00m columns:\n\u001b[0;32m     24\u001b[0m     \u001b[39mif\u001b[39;00m column \u001b[39mnot\u001b[39;00m \u001b[39min\u001b[39;00m \u001b[39mself\u001b[39m\u001b[39m.\u001b[39mdata\u001b[39m.\u001b[39mcolumns:\n\u001b[1;32m---> 25\u001b[0m         \u001b[39mraise\u001b[39;00m \u001b[39mValueError\u001b[39;00m(\u001b[39mf\u001b[39m\u001b[39m\"\u001b[39m\u001b[39mInput column \u001b[39m\u001b[39m'\u001b[39m\u001b[39m{\u001b[39;00mcolumn\u001b[39m}\u001b[39;00m\u001b[39m'\u001b[39m\u001b[39m is not in the dataset. Please try again.\u001b[39m\u001b[39m\"\u001b[39m)\n\u001b[0;32m     26\u001b[0m     \u001b[39mif\u001b[39;00m \u001b[39mself\u001b[39m\u001b[39m.\u001b[39mdata[column]\u001b[39m.\u001b[39mdtype \u001b[39mnot\u001b[39;00m \u001b[39min\u001b[39;00m (\u001b[39mself\u001b[39m\u001b[39m.\u001b[39mcont_dtypes \u001b[39m+\u001b[39m \u001b[39mself\u001b[39m\u001b[39m.\u001b[39mcat_dtypes):\n\u001b[0;32m     27\u001b[0m         \u001b[39mraise\u001b[39;00m \u001b[39mValueError\u001b[39;00m(\u001b[39mf\u001b[39m\u001b[39m\"\u001b[39m\u001b[39mInput column \u001b[39m\u001b[39m'\u001b[39m\u001b[39m{\u001b[39;00mcolumn\u001b[39m}\u001b[39;00m\u001b[39m'\u001b[39m\u001b[39m is not of a valid datatype. Please try again.\u001b[39m\u001b[39m\"\u001b[39m)\n",
      "\u001b[1;31mValueError\u001b[0m: Input column 'normal' is not in the dataset. Please try again."
     ]
    }
   ],
   "source": [
    "# case 1 - column does not exist in dataset\n",
    "\n",
    "result1 = test.autostatstest(\"normal1\", \"normal\")"
   ]
  },
  {
   "cell_type": "code",
   "execution_count": null,
   "metadata": {},
   "outputs": [],
   "source": [
    "# case 2 - column has inappropriate datatype\n",
    "\n",
    "result2 = test.autostatstest(\"normal1\", \"boolean\")"
   ]
  },
  {
   "cell_type": "code",
   "execution_count": null,
   "metadata": {},
   "outputs": [],
   "source": [
    "# case 3 - continuous normal vs continuous normal (pearson's correlation)\n",
    "\n",
    "result3 = test.autostatstest(\"normal1\", \"normal2\")"
   ]
  },
  {
   "cell_type": "markdown",
   "metadata": {},
   "source": [
    "*Extracting results without post-hoc tests:*"
   ]
  },
  {
   "cell_type": "code",
   "execution_count": null,
   "metadata": {},
   "outputs": [],
   "source": [
    "result3"
   ]
  },
  {
   "cell_type": "code",
   "execution_count": null,
   "metadata": {},
   "outputs": [],
   "source": [
    "result3.pvalue"
   ]
  },
  {
   "cell_type": "code",
   "execution_count": null,
   "metadata": {},
   "outputs": [],
   "source": [
    "# case 4 - continuous normal vs continuous non-normal (spearman's correlation)\n",
    "\n",
    "result4 = test.autostatstest(\"normal1\", \"non-normal\")"
   ]
  },
  {
   "cell_type": "code",
   "execution_count": null,
   "metadata": {},
   "outputs": [],
   "source": [
    "# case 5 - categorical 2 levels vs categorical 2 levels (chi-square test) (results insignificant)\n",
    "\n",
    "result5 = test.autostatstest(\"categorical_2_levels1\", \"categorical_2_levels2\")"
   ]
  },
  {
   "cell_type": "code",
   "execution_count": null,
   "metadata": {},
   "outputs": [],
   "source": [
    "# case 6 - categorical 2 levels vs categorical > 2 levels (chi-square test) (results insignificant)\n",
    "\n",
    "result6 = test.autostatstest(\"categorical_2_levels1\", \"categorical_multi_levels\")"
   ]
  },
  {
   "cell_type": "code",
   "execution_count": null,
   "metadata": {},
   "outputs": [],
   "source": [
    "# case 7 - categorical 2 levels vs categorical > 2 levels (chi-square test) (results significant) \n",
    "\n",
    "result7 = test.autostatstest(\"categorical_2_levels1\", \"dependent_categorical_3_levels\")"
   ]
  },
  {
   "cell_type": "markdown",
   "metadata": {},
   "source": [
    "*Extracting results with post-hoc tests:*"
   ]
  },
  {
   "cell_type": "code",
   "execution_count": null,
   "metadata": {},
   "outputs": [],
   "source": [
    "result7"
   ]
  },
  {
   "cell_type": "code",
   "execution_count": null,
   "metadata": {},
   "outputs": [],
   "source": [
    "result7[\"chi2\"].pvalue"
   ]
  },
  {
   "cell_type": "code",
   "execution_count": null,
   "metadata": {},
   "outputs": [],
   "source": [
    "result7[\"post-hoc\"][1].corrected_pvalue"
   ]
  },
  {
   "cell_type": "code",
   "execution_count": null,
   "metadata": {},
   "outputs": [],
   "source": [
    "# function to print all significant categories from post-hoc test results\n",
    "\n",
    "print_significant_categories(result7)"
   ]
  },
  {
   "cell_type": "code",
   "execution_count": null,
   "metadata": {},
   "outputs": [],
   "source": [
    "# case 8 - categorical 2 levels vs categorial 2 levels (fisher's exact test) [chi square assumption fails and contingency table is 2x2]\n",
    "\n",
    "result8 = test.autostatstest(\"categorical_2_levels2\", \"categorical_fishers\", verbose = False)"
   ]
  },
  {
   "cell_type": "code",
   "execution_count": null,
   "metadata": {},
   "outputs": [],
   "source": [
    "result8"
   ]
  },
  {
   "cell_type": "code",
   "execution_count": null,
   "metadata": {},
   "outputs": [],
   "source": [
    "# case 9 - categorical 2 levels vs categorical > 2 levels (chi-square test) [chi-square assumption fails but contingency table is not 2x2]\n",
    "\n",
    "result9 = test.autostatstest(\"categorical_2_levels1\", \"categorical_nofishers\")"
   ]
  },
  {
   "cell_type": "code",
   "execution_count": null,
   "metadata": {},
   "outputs": [],
   "source": [
    "# case 10 - continuous normal vs categorical 2 levels (student's independent t-test)\n",
    "\n",
    "result10 = test.autostatstest(\"normal1\", \"categorical_2_levels1\")"
   ]
  },
  {
   "cell_type": "code",
   "execution_count": null,
   "metadata": {},
   "outputs": [],
   "source": [
    "# case 11 - continuous non-normal vs categorical 2 levels (mann-whitney u test)\n",
    "\n",
    "result11 = test.autostatstest(\"non-normal\", \"categorical_2_levels1\")"
   ]
  },
  {
   "cell_type": "code",
   "execution_count": null,
   "metadata": {},
   "outputs": [],
   "source": [
    "# case 12 - continuous normal vs categorical > 2 levels (one-way anova) (results insignificant)\n",
    "\n",
    "result12 = test.autostatstest(\"normal1\", \"categorical_multi_levels\")"
   ]
  },
  {
   "cell_type": "code",
   "execution_count": null,
   "metadata": {},
   "outputs": [],
   "source": [
    "# case 13 - continuous normal vs categorical > 2 levels (one-way anova) (results significant)\n",
    "\n",
    "result13 = test2.autostatstest(\"normal1\", \"dependent_categorical_3_levels\", verbose=False)"
   ]
  },
  {
   "cell_type": "code",
   "execution_count": null,
   "metadata": {},
   "outputs": [],
   "source": [
    "result13"
   ]
  },
  {
   "cell_type": "code",
   "execution_count": null,
   "metadata": {},
   "outputs": [],
   "source": [
    "print_significant_categories(result13)"
   ]
  },
  {
   "cell_type": "code",
   "execution_count": null,
   "metadata": {},
   "outputs": [],
   "source": [
    "# case 14 - continuous non-normal vs categorical > 2 levels (kruskal-wallis test) (not significant)\n",
    "\n",
    "result14 = test.autostatstest(\"non-normal\", \"categorical_multi_levels\")"
   ]
  },
  {
   "cell_type": "code",
   "execution_count": null,
   "metadata": {},
   "outputs": [],
   "source": [
    "# case 15 - continuous non-normal vs categorical > 2 levels (kruskal-wallis test) (results significant)\n",
    "\n",
    "result15 = test.autostatstest(\"diff_mean_normal_samples\", \"categorical_multi_levels\")"
   ]
  },
  {
   "cell_type": "markdown",
   "metadata": {},
   "source": [
    "# AUTOSTATSTEST_ALL"
   ]
  },
  {
   "cell_type": "markdown",
   "metadata": {},
   "source": [
    "**This class method takes one column as input (dependent variable). Autostatstest is then conducted with all other columns in the dataset, assuming datatypes are appropriate. Results of statistical tests are stored in a dictionary. All errors raised are printed and stored as results as well.**"
   ]
  },
  {
   "cell_type": "markdown",
   "metadata": {},
   "source": [
    "*1. Create class instance - StatsTest*\n",
    "\n",
    "parameter 1 = data (in pandas dataframe/numpy array)\n",
    "\n",
    "parameter 2 = level of significance (optional)"
   ]
  },
  {
   "cell_type": "markdown",
   "metadata": {},
   "source": [
    "*2. Call class method - autostatstest_all*\n",
    "\n"
   ]
  },
  {
   "cell_type": "markdown",
   "metadata": {},
   "source": [
    "*3. View & retrieve stored results in the dictionary (if needed)*"
   ]
  },
  {
   "cell_type": "markdown",
   "metadata": {},
   "source": [
    "**EXAMPLE CASES**"
   ]
  },
  {
   "cell_type": "code",
   "execution_count": null,
   "metadata": {},
   "outputs": [],
   "source": [
    "result_all_1 = test.autostatstest_all(\"normal1\", verbose = False)"
   ]
  },
  {
   "cell_type": "code",
   "execution_count": null,
   "metadata": {},
   "outputs": [
    {
     "data": {
      "text/plain": [
       "{'normal2': DatkPearsonrResult(statistic=0.006323105498256652, pvalue=0.527231483649771, significant=False),\n",
       " 'normal3': DatkPearsonrResult(statistic=0.007523414893723428, pvalue=0.45189586823596, significant=False),\n",
       " 'non-normal': DatkSpearmanrResult(statistic=0.013384566625845667, pvalue=0.18078260126597606, significant=False),\n",
       " 'categorical_2_levels1': DatkTTestResult(statistic=0.6964982784951681, pvalue=0.4861330268721993, significant=False),\n",
       " 'dependent_categorical_3_levels': DatkOneWayAnovaResult(statistic=1.8362901753835394, pvalue=0.15946146883768222, significant=False),\n",
       " 'categorical_2_levels2': DatkTTestResult(statistic=-2.2604870701425077, pvalue=0.023812450776105082, significant=True),\n",
       " 'categorical_multi_levels': DatkOneWayAnovaResult(statistic=2.3005161004505177, pvalue=0.07517058079934379, significant=False),\n",
       " 'diff_mean_normal_samples': DatkSpearmanrResult(statistic=-0.00358831799988318, pvalue=0.7197536168000374, significant=False),\n",
       " 'categorical_fishers': DatkTTestResult(statistic=-1.2197051436035442, pvalue=0.22260544229329154, significant=False),\n",
       " 'categorical_nofishers': DatkOneWayAnovaResult(statistic=0.2606583075877409, pvalue=0.7705494004299839, significant=False)}"
      ]
     },
     "execution_count": 6,
     "metadata": {},
     "output_type": "execute_result"
    }
   ],
   "source": [
    "result_all_1"
   ]
  },
  {
   "cell_type": "code",
   "execution_count": null,
   "metadata": {},
   "outputs": [],
   "source": [
    "for k,v in result_all_1:\n",
    "    if not isinstance(v, str):\n",
    "        if v.pvalue < 0.05:\n",
    "            print(k)"
   ]
  },
  {
   "cell_type": "code",
   "execution_count": null,
   "metadata": {},
   "outputs": [
    {
     "name": "stdout",
     "output_type": "stream",
     "text": [
      "\n",
      "Assumption of Chi-square Test of Independence is violated (Each cell in contingency table should be at least 5).\n"
     ]
    }
   ],
   "source": [
    "result_all_2 = test.autostatstest_all(\"categorical_2_levels1\", verbose = False)\n",
    "\n",
    "# list of cols = None"
   ]
  },
  {
   "cell_type": "code",
   "execution_count": null,
   "metadata": {},
   "outputs": [],
   "source": [
    "result_all_2"
   ]
  },
  {
   "cell_type": "markdown",
   "metadata": {},
   "source": [
    "# INDIVIDUAL STATISTICAL TESTS"
   ]
  },
  {
   "cell_type": "code",
   "execution_count": null,
   "metadata": {},
   "outputs": [],
   "source": [
    "df.info()"
   ]
  },
  {
   "cell_type": "code",
   "execution_count": null,
   "metadata": {},
   "outputs": [],
   "source": [
    "result_pearsons = pearsonr_test(var1 = df[\"normal1\"], var2 = df[\"normal2\"], alpha = 0.05)"
   ]
  },
  {
   "cell_type": "code",
   "execution_count": null,
   "metadata": {},
   "outputs": [],
   "source": [
    "observed = pd.crosstab(df[\"categorical_2_levels1\"], df[\"dependent_categorical_3_levels\"])\n",
    "\n",
    "result_chi2 = chisquare_test(observed = observed, alpha = 0.05)"
   ]
  },
  {
   "cell_type": "code",
   "execution_count": null,
   "metadata": {},
   "outputs": [],
   "source": [
    "result_chi2_posthoc = chisquare_posthoc_test(df = observed, alpha = 0.05)"
   ]
  }
 ],
 "metadata": {
  "kernelspec": {
   "display_name": "Python 3",
   "language": "python",
   "name": "python3"
  },
  "language_info": {
   "codemirror_mode": {
    "name": "ipython",
    "version": 3
   },
   "file_extension": ".py",
   "mimetype": "text/x-python",
   "name": "python",
   "nbconvert_exporter": "python",
   "pygments_lexer": "ipython3",
   "version": "3.11.3"
  },
  "orig_nbformat": 4
 },
 "nbformat": 4,
 "nbformat_minor": 2
}
