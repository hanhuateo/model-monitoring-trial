{
 "cells": [
  {
   "cell_type": "code",
   "execution_count": 2,
   "metadata": {},
   "outputs": [],
   "source": [
    "import numpy as np\n",
    "import pandas as pd\n",
    "from joblib import load\n",
    "from processed_feature_mapping import mapping\n",
    "from train_model import data_cleaning"
   ]
  },
  {
   "cell_type": "code",
   "execution_count": 3,
   "metadata": {},
   "outputs": [],
   "source": [
    "# 1a. Output the required cleaned data for train dataset\n",
    "# Required processed data is already done in train_model.py\n",
    "df = pd.read_csv('../data/raw_split_data/employee_train.csv')\n",
    "df = data_cleaning(df)\n",
    "X_train = df.drop(columns=['Attrition'])\n",
    "\n",
    "column_transformer = load('./preprocessor/column_transformer.pkl')\n",
    "label_encoder = load('./preprocessor/label_encoder.pkl')\n",
    "RF_clf = load('./model/RF_clf.joblib')\n",
    "\n",
    "y_train = df['Attrition']\n",
    "X_train_processed = column_transformer.transform(X_train)\n",
    "y_train_pred = RF_clf.predict(X_train_processed)\n",
    "y_train_pred_inverse = label_encoder.inverse_transform(y_train_pred)\n",
    "df['prediction'] = y_train_pred_inverse\n",
    "df.rename(columns={'Attrition' : 'target'}, inplace=True)\n",
    "df.to_csv('../data/cleaned_employee_train.csv', index=False)\n",
    "\n",
    "# 1b. Output the required cleaned/processed data for test dataset\n",
    "test_df = pd.read_csv(\"../data/raw_split_data/employee_test.csv\")\n",
    "test_df = data_cleaning(test_df)\n",
    "X_test = test_df.drop(columns=['Attrition'])\n",
    "y_test = test_df['Attrition']\n",
    "X_test_processed = column_transformer.transform(X_test)\n",
    "X_test_processed = pd.DataFrame.from_records(X_test_processed)\n",
    "X_test_processed = mapping(X_test_processed, column_transformer)\n",
    "X_test_processed.to_csv('../data/X_test_processed.csv', index=False)\n",
    "y_test_pred = RF_clf.predict(X_test_processed)\n",
    "y_test_pred_inverse = label_encoder.inverse_transform(y_test_pred)\n",
    "y_test_pred_prob = RF_clf.predict_proba(X_test_processed)[:1]\n",
    "test_df['prediction'] = y_test_pred_inverse\n",
    "test_df.rename(columns={'Attrition' : 'target'}, inplace=True)\n",
    "test_df.to_csv('../data/cleaned_employee_test.csv', index=False)"
   ]
  },
  {
   "cell_type": "code",
   "execution_count": 9,
   "metadata": {},
   "outputs": [
    {
     "data": {
      "text/plain": [
       "{'Age': dtype('int64'),\n",
       " 'target': dtype('O'),\n",
       " 'BusinessTravel': dtype('int64'),\n",
       " 'DailyRate': dtype('int64'),\n",
       " 'Department': dtype('O'),\n",
       " 'DistanceFromHome': dtype('int64'),\n",
       " 'Education': dtype('int64'),\n",
       " 'EducationField': dtype('O'),\n",
       " 'EnvironmentSatisfaction': dtype('int64'),\n",
       " 'Gender': dtype('O'),\n",
       " 'HourlyRate': dtype('int64'),\n",
       " 'JobInvolvement': dtype('int64'),\n",
       " 'JobLevel': dtype('int64'),\n",
       " 'JobRole': dtype('O'),\n",
       " 'JobSatisfaction': dtype('int64'),\n",
       " 'MaritalStatus': dtype('O'),\n",
       " 'MonthlyIncome': dtype('int64'),\n",
       " 'MonthlyRate': dtype('int64'),\n",
       " 'NumCompaniesWorked': dtype('int64'),\n",
       " 'OverTime': dtype('O'),\n",
       " 'PercentSalaryHike': dtype('int64'),\n",
       " 'PerformanceRating': dtype('int64'),\n",
       " 'RelationshipSatisfaction': dtype('int64'),\n",
       " 'StockOptionLevel': dtype('int64'),\n",
       " 'TotalWorkingYears': dtype('int64'),\n",
       " 'TrainingTimesLastYear': dtype('int64'),\n",
       " 'WorkLifeBalance': dtype('int64'),\n",
       " 'YearsAtCompany': dtype('int64'),\n",
       " 'YearsInCurrentRole': dtype('int64'),\n",
       " 'YearsSinceLastPromotion': dtype('int64'),\n",
       " 'YearsWithCurrManager': dtype('int64'),\n",
       " 'prediction': dtype('O')}"
      ]
     },
     "execution_count": 9,
     "metadata": {},
     "output_type": "execute_result"
    }
   ],
   "source": [
    "df.dtypes.to_dict()"
   ]
  },
  {
   "cell_type": "code",
   "execution_count": null,
   "metadata": {},
   "outputs": [],
   "source": []
  }
 ],
 "metadata": {
  "kernelspec": {
   "display_name": "Python 3",
   "language": "python",
   "name": "python3"
  },
  "language_info": {
   "codemirror_mode": {
    "name": "ipython",
    "version": 3
   },
   "file_extension": ".py",
   "mimetype": "text/x-python",
   "name": "python",
   "nbconvert_exporter": "python",
   "pygments_lexer": "ipython3",
   "version": "3.11.3"
  },
  "orig_nbformat": 4
 },
 "nbformat": 4,
 "nbformat_minor": 2
}
