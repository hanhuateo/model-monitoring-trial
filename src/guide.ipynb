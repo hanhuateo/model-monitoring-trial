{
 "cells": [
  {
   "cell_type": "code",
   "execution_count": 1,
   "metadata": {},
   "outputs": [
    {
     "name": "stderr",
     "output_type": "stream",
     "text": [
      "/Library/Frameworks/Python.framework/Versions/3.10/lib/python3.10/site-packages/umap/distances.py:1063: NumbaDeprecationWarning: The 'nopython' keyword argument was not supplied to the 'numba.jit' decorator. The implicit default value for this argument is currently False, but it will be changed to True in Numba 0.59.0. See https://numba.readthedocs.io/en/stable/reference/deprecation.html#deprecation-of-object-mode-fall-back-behaviour-when-using-jit for details.\n",
      "  @numba.jit()\n",
      "/Library/Frameworks/Python.framework/Versions/3.10/lib/python3.10/site-packages/umap/distances.py:1071: NumbaDeprecationWarning: The 'nopython' keyword argument was not supplied to the 'numba.jit' decorator. The implicit default value for this argument is currently False, but it will be changed to True in Numba 0.59.0. See https://numba.readthedocs.io/en/stable/reference/deprecation.html#deprecation-of-object-mode-fall-back-behaviour-when-using-jit for details.\n",
      "  @numba.jit()\n",
      "/Library/Frameworks/Python.framework/Versions/3.10/lib/python3.10/site-packages/umap/distances.py:1086: NumbaDeprecationWarning: The 'nopython' keyword argument was not supplied to the 'numba.jit' decorator. The implicit default value for this argument is currently False, but it will be changed to True in Numba 0.59.0. See https://numba.readthedocs.io/en/stable/reference/deprecation.html#deprecation-of-object-mode-fall-back-behaviour-when-using-jit for details.\n",
      "  @numba.jit()\n",
      "/Library/Frameworks/Python.framework/Versions/3.10/lib/python3.10/site-packages/tqdm/auto.py:21: TqdmWarning: IProgress not found. Please update jupyter and ipywidgets. See https://ipywidgets.readthedocs.io/en/stable/user_install.html\n",
      "  from .autonotebook import tqdm as notebook_tqdm\n",
      "/Library/Frameworks/Python.framework/Versions/3.10/lib/python3.10/site-packages/umap/umap_.py:660: NumbaDeprecationWarning: The 'nopython' keyword argument was not supplied to the 'numba.jit' decorator. The implicit default value for this argument is currently False, but it will be changed to True in Numba 0.59.0. See https://numba.readthedocs.io/en/stable/reference/deprecation.html#deprecation-of-object-mode-fall-back-behaviour-when-using-jit for details.\n",
      "  @numba.jit()\n"
     ]
    }
   ],
   "source": [
    "import pandas as pd\n",
    "from model_monitoring import ModelMonitoring"
   ]
  },
  {
   "cell_type": "code",
   "execution_count": 2,
   "metadata": {},
   "outputs": [],
   "source": [
    "incoming_df = pd.read_csv(\"../data/incoming_data_cleaned.csv\")\n",
    "test_df = pd.read_csv(\"../data/test_data_cleaned.csv\")\n",
    "incoming_features_df_processed = pd.read_csv(\"../data/incoming_features_df_processed.csv\")\n",
    "test_features_df_processed = pd.read_csv(\"../data/test_features_df_processed.csv\")"
   ]
  },
  {
   "cell_type": "code",
   "execution_count": 3,
   "metadata": {},
   "outputs": [],
   "source": [
    "# instantiate model monitoring object\n",
    "model_monitoring = ModelMonitoring()"
   ]
  },
  {
   "cell_type": "code",
   "execution_count": 4,
   "metadata": {},
   "outputs": [],
   "source": [
    "# firstly, do data checks to ensure data quality and preprocessing pipeline got no problems\n",
    "model_monitoring.data_check(test_df, incoming_df, test_features_df_processed, incoming_features_df_processed)"
   ]
  },
  {
   "cell_type": "code",
   "execution_count": 5,
   "metadata": {},
   "outputs": [],
   "source": [
    "# next, call write_to_config method so that the column names and thresholds can be written into config.json\n",
    "model_monitoring.write_to_config()"
   ]
  },
  {
   "cell_type": "markdown",
   "metadata": {},
   "source": [
    "After running write_to_config, proceed to config.json file. It will show a dictionary with all the column names as keys and their respective thresholds as values. User can change the thresholds in this config file for the individual columns to suit their requirements for the respective columns"
   ]
  },
  {
   "cell_type": "code",
   "execution_count": 6,
   "metadata": {},
   "outputs": [],
   "source": [
    "# after configuring the thresholds in config.json, user can now run feature_drift_report to see how the distribution of features has drifted\n",
    "\n",
    "model_monitoring.feature_drift_report(test_df.drop(columns=['target', 'prediction']), incoming_df.drop(columns=['target', 'prediction']), 'json')\n",
    "# model_monitoring.feature_drift_report(test_df.drop(columns=['target', 'prediction']), incoming_df.drop(columns=['target', 'prediction']), 'html')"
   ]
  },
  {
   "cell_type": "code",
   "execution_count": 7,
   "metadata": {},
   "outputs": [],
   "source": [
    "# on top feature_drfit_report, user can also run prediction_drift_report to see how the distribution of prediction has shifted\n",
    "\"\"\"\n",
    "For categorical: \n",
    "chisquare, z, fisher_exact, g_test, TVD\n",
    "For numerical: \n",
    "ks, wasserstein, anderson, cramer_von_mises, mannw, ed, es, t_test, emperical_mmd\n",
    "For both categorical and numerical: \n",
    "kl_div, psi, jensenshannon, hellinger\n",
    "for more information on the stats test, please refer to: \n",
    "https://docs.evidentlyai.com/user-guide/customization/options-for-statistical-tests\n",
    "\"\"\"\n",
    "model_monitoring.prediction_drift_report(test_df, incoming_df, 'chisquare', 0.05, 'json')\n",
    "# model_monitoring.prediction_drift_report(test_df, incoming_df, 'chisquare', 0.05, 'html')"
   ]
  },
  {
   "cell_type": "code",
   "execution_count": 8,
   "metadata": {},
   "outputs": [
    {
     "name": "stdout",
     "output_type": "stream",
     "text": [
      "processed feature importance mapping : {'categorical__Department_Human Resources': 0.00047832981922485163, 'categorical__Department_Research & Development': 0.013079180154469435, 'categorical__Department_Sales': 0.011184133840550987, 'categorical__EducationField_Human Resources': 6.061732173675546e-05, 'categorical__EducationField_Life Sciences': 0.010137571129742893, 'categorical__EducationField_Marketing': 0.0020409604642020653, 'categorical__EducationField_Medical': 0.007474116748387542, 'categorical__EducationField_Other': 0.0006598829980929501, 'categorical__EducationField_Technical Degree': 0.003765665306522748, 'categorical__Gender_Female': 0.008187215571305235, 'categorical__Gender_Male': 0.010449071303759295, 'categorical__JobRole_Healthcare Representative': 0.0034660732451281726, 'categorical__JobRole_Human Resources': 0.00033984528586818575, 'categorical__JobRole_Laboratory Technician': 0.0063745083440093445, 'categorical__JobRole_Manager': 0.000786919301051128, 'categorical__JobRole_Manufacturing Director': 0.0034318084093934768, 'categorical__JobRole_Research Director': 0.0012218181905922988, 'categorical__JobRole_Research Scientist': 0.006269137245417851, 'categorical__JobRole_Sales Executive': 0.012585813146235724, 'categorical__JobRole_Sales Representative': 0.0024286517463899615, 'categorical__MaritalStatus_Divorced': 0.007969305472853022, 'categorical__MaritalStatus_Married': 0.006219759303228453, 'categorical__MaritalStatus_Single': 0.02254457831117569, 'categorical__OverTime_No': 0.038643523368099904, 'categorical__OverTime_Yes': 0.038480505339261055, 'numerical__Age': 0.060743526851119375, 'numerical__BusinessTravel': 0.010343701236083625, 'numerical__DailyRate': 0.04128182134816969, 'numerical__DistanceFromHome': 0.03453718374702578, 'numerical__Education': 0.016077555171092498, 'numerical__EnvironmentSatisfaction': 0.01819353510844118, 'numerical__HourlyRate': 0.0398677617394036, 'numerical__JobInvolvement': 0.0246495819246208, 'numerical__JobLevel': 0.02291384872150708, 'numerical__JobSatisfaction': 0.01676866777150622, 'numerical__MonthlyIncome': 0.06209560301266717, 'numerical__MonthlyRate': 0.03498929559546391, 'numerical__NumCompaniesWorked': 0.03684410871948891, 'numerical__PercentSalaryHike': 0.029204600194650612, 'numerical__PerformanceRating': 0.0019634731047614147, 'numerical__RelationshipSatisfaction': 0.022640029294914366, 'numerical__StockOptionLevel': 0.043335687762776784, 'numerical__TotalWorkingYears': 0.06465512579382893, 'numerical__TrainingTimesLastYear': 0.01060546423447848, 'numerical__WorkLifeBalance': 0.01166077254063602, 'numerical__YearsAtCompany': 0.06145986682096021, 'numerical__YearsInCurrentRole': 0.03865670579044412, 'numerical__YearsSinceLastPromotion': 0.017768044008275648, 'numerical__YearsWithCurrManager': 0.06046504814098454}\n",
      "1.0000000000000002\n",
      "{'Age': 0.060743526851119375, 'BusinessTravel': 0.010343701236083625, 'DailyRate': 0.04128182134816969, 'Department': 0.024741643814245276, 'DistanceFromHome': 0.03453718374702578, 'Education': 0.040216369139777455, 'EducationField': 0.024138813968684954, 'EnvironmentSatisfaction': 0.01819353510844118, 'Gender': 0.01863628687506453, 'HourlyRate': 0.0398677617394036, 'JobInvolvement': 0.0246495819246208, 'JobLevel': 0.02291384872150708, 'JobRole': 0.03690457491408614, 'JobSatisfaction': 0.01676866777150622, 'MaritalStatus': 0.03673364308725716, 'MonthlyIncome': 0.06209560301266717, 'MonthlyRate': 0.03498929559546391, 'NumCompaniesWorked': 0.03684410871948891, 'OverTime': 0.07712402870736096, 'PercentSalaryHike': 0.029204600194650612, 'PerformanceRating': 0.0019634731047614147, 'RelationshipSatisfaction': 0.022640029294914366, 'StockOptionLevel': 0.043335687762776784, 'TotalWorkingYears': 0.06465512579382893, 'TrainingTimesLastYear': 0.01060546423447848, 'WorkLifeBalance': 0.01166077254063602, 'YearsAtCompany': 0.06145986682096021, 'YearsInCurrentRole': 0.03865670579044412, 'YearsSinceLastPromotion': 0.017768044008275648, 'YearsWithCurrManager': 0.06046504814098454}\n",
      "dataset drift is not significant\n",
      "dataset drift percentage is : 0.22331723078542587\n"
     ]
    }
   ],
   "source": [
    "# lastly, users can check for dataset drift, by running check_dataset_drift which uses \n",
    "# feature importance scores as proxy to determine dataset drift.\n",
    "model_monitoring.check_dataset_drift()"
   ]
  }
 ],
 "metadata": {
  "kernelspec": {
   "display_name": "Python 3 (ipykernel)",
   "language": "python",
   "name": "python3"
  },
  "language_info": {
   "codemirror_mode": {
    "name": "ipython",
    "version": 3
   },
   "file_extension": ".py",
   "mimetype": "text/x-python",
   "name": "python",
   "nbconvert_exporter": "python",
   "pygments_lexer": "ipython3",
   "version": "3.10.2"
  }
 },
 "nbformat": 4,
 "nbformat_minor": 2
}
