{
 "cells": [
  {
   "cell_type": "code",
   "execution_count": 1,
   "metadata": {},
   "outputs": [
    {
     "name": "stderr",
     "output_type": "stream",
     "text": [
      "/Library/Frameworks/Python.framework/Versions/3.10/lib/python3.10/site-packages/umap/distances.py:1063: NumbaDeprecationWarning: The 'nopython' keyword argument was not supplied to the 'numba.jit' decorator. The implicit default value for this argument is currently False, but it will be changed to True in Numba 0.59.0. See https://numba.readthedocs.io/en/stable/reference/deprecation.html#deprecation-of-object-mode-fall-back-behaviour-when-using-jit for details.\n",
      "  @numba.jit()\n",
      "/Library/Frameworks/Python.framework/Versions/3.10/lib/python3.10/site-packages/umap/distances.py:1071: NumbaDeprecationWarning: The 'nopython' keyword argument was not supplied to the 'numba.jit' decorator. The implicit default value for this argument is currently False, but it will be changed to True in Numba 0.59.0. See https://numba.readthedocs.io/en/stable/reference/deprecation.html#deprecation-of-object-mode-fall-back-behaviour-when-using-jit for details.\n",
      "  @numba.jit()\n",
      "/Library/Frameworks/Python.framework/Versions/3.10/lib/python3.10/site-packages/umap/distances.py:1086: NumbaDeprecationWarning: The 'nopython' keyword argument was not supplied to the 'numba.jit' decorator. The implicit default value for this argument is currently False, but it will be changed to True in Numba 0.59.0. See https://numba.readthedocs.io/en/stable/reference/deprecation.html#deprecation-of-object-mode-fall-back-behaviour-when-using-jit for details.\n",
      "  @numba.jit()\n",
      "/Library/Frameworks/Python.framework/Versions/3.10/lib/python3.10/site-packages/tqdm/auto.py:21: TqdmWarning: IProgress not found. Please update jupyter and ipywidgets. See https://ipywidgets.readthedocs.io/en/stable/user_install.html\n",
      "  from .autonotebook import tqdm as notebook_tqdm\n",
      "/Library/Frameworks/Python.framework/Versions/3.10/lib/python3.10/site-packages/umap/umap_.py:660: NumbaDeprecationWarning: The 'nopython' keyword argument was not supplied to the 'numba.jit' decorator. The implicit default value for this argument is currently False, but it will be changed to True in Numba 0.59.0. See https://numba.readthedocs.io/en/stable/reference/deprecation.html#deprecation-of-object-mode-fall-back-behaviour-when-using-jit for details.\n",
      "  @numba.jit()\n"
     ]
    }
   ],
   "source": [
    "import numpy as np\n",
    "import pandas as pd\n",
    "from joblib import load\n",
    "from processed_feature_mapping import mapping\n",
    "from train_model import data_cleaning\n",
    "from model_monitoring import ModelMonitoring"
   ]
  },
  {
   "cell_type": "code",
   "execution_count": 2,
   "metadata": {},
   "outputs": [],
   "source": [
    "# 1a. Output the required cleaned data for train dataset\n",
    "# Required processed data is already done in train_model.py\n",
    "# Although prediction on employee_train was already done previously,\n",
    "# need to do again because the dataset was jumbled up in train_model.py\n",
    "train_df = pd.read_csv('../data/raw_split_data/employee_train.csv')\n",
    "train_df = data_cleaning(train_df)\n",
    "X_train = train_df.drop(columns=['Attrition'])\n",
    "\n",
    "column_transformer = load('./preprocessor/column_transformer.pkl')\n",
    "label_encoder = load('./preprocessor/label_encoder.pkl')\n",
    "RF_clf = load('./model/RF_clf.joblib')\n",
    "\n",
    "y_train = train_df['Attrition']\n",
    "X_train_processed = column_transformer.transform(X_train)\n",
    "y_train_pred = RF_clf.predict(X_train_processed)\n",
    "y_train_pred_inverse = label_encoder.inverse_transform(y_train_pred)\n",
    "train_df['prediction'] = y_train_pred_inverse\n",
    "train_df.rename(columns={'Attrition' : 'target'}, inplace=True)\n",
    "train_df.to_csv('../data/cleaned_employee_train.csv', index=False)\n",
    "\n",
    "# 1b. Output the required cleaned/processed data for test dataset\n",
    "test_df = pd.read_csv(\"../data/raw_split_data/employee_test.csv\")\n",
    "test_df = data_cleaning(test_df)\n",
    "X_test = test_df.drop(columns=['Attrition'])\n",
    "y_test = test_df['Attrition']\n",
    "X_test_processed = column_transformer.transform(X_test)\n",
    "X_test_processed = pd.DataFrame.from_records(X_test_processed)\n",
    "X_test_processed = mapping(X_test_processed, column_transformer)\n",
    "X_test_processed.to_csv('../data/X_test_processed.csv', index=False)\n",
    "y_test_pred = RF_clf.predict(X_test_processed)\n",
    "y_test_pred_inverse = label_encoder.inverse_transform(y_test_pred)\n",
    "y_test_pred_prob = RF_clf.predict_proba(X_test_processed)[:1]\n",
    "test_df['prediction'] = y_test_pred_inverse\n",
    "test_df.rename(columns={'Attrition' : 'target'}, inplace=True)\n",
    "test_df.to_csv('../data/cleaned_employee_test.csv', index=False)"
   ]
  },
  {
   "cell_type": "code",
   "execution_count": 3,
   "metadata": {},
   "outputs": [],
   "source": [
    "# With the required datasets out, firstly, we create the instance of the ModelMonitoring object \n",
    "full_train_df = pd.read_csv('../data/cleaned_employee_train.csv')\n",
    "full_test_df = pd.read_csv('../data/cleaned_employee_test.csv')\n",
    "train_df = full_train_df.drop(columns=['target', 'prediction'])\n",
    "test_df = full_test_df.drop(columns=['target', 'prediction'])\n",
    "\n",
    "processed_train_df = pd.read_csv('../data/X_train_processed.csv')\n",
    "processed_test_df = pd.read_csv('../data/X_test_processed.csv')\n",
    "model_monitoring = ModelMonitoring(train_df)"
   ]
  },
  {
   "cell_type": "markdown",
   "metadata": {},
   "source": [
    "we first have to ensure that the incoming data has no issues\n",
    "for example, that the column names of the incoming data matches the training data, \n",
    "there is no difference in the data type for all columns, \n",
    "there is no data with '?' or '-' within the dataset."
   ]
  },
  {
   "cell_type": "code",
   "execution_count": 4,
   "metadata": {},
   "outputs": [
    {
     "name": "stdout",
     "output_type": "stream",
     "text": [
      "train and test dataset have the same features\n",
      "The data types for all columns from both datasets are the same\n",
      "train and test dataset have the same processed features\n"
     ]
    }
   ],
   "source": [
    "# so we first have to run the data_check method\n",
    "# this method will fix any column names that has spaces and change them to '_'\n",
    "# it then replaces any bad data such as '?' or '-' and replaces the with NaN\n",
    "# it then checks whether the schema of the incoming data matches the training data\n",
    "# then it checks for the data types for each column of the incoming data\n",
    "# lastly it also checks that the processed incoming data is the same as the processed training data\n",
    "# this is to ensure the data quality of the incoming data and that the\n",
    "# processing pipeline has no issues\n",
    "model_monitoring.data_check(train_df, test_df, processed_train_df, processed_test_df)"
   ]
  },
  {
   "cell_type": "code",
   "execution_count": null,
   "metadata": {},
   "outputs": [],
   "source": [
    "# after ensuring that there is no issue with the incoming data, can run the evidently reports\n",
    "# the report can be obtained in 2 formats: html or json\n",
    "# html can be used for visualizing the distribution of the data\n",
    "# json can be used for raising alerts as the user can access the p-value of the stat test\n",
    "# of each column and should many columns drifted, it can raise an alert to let the \n",
    "# data scientist know that the dataset has drifted and retraining might be in order\n",
    "# this function will always return a dictionary should the user want to access the data within this ipynb\n",
    "# you can view either in html or json format\n",
    "model_monitoring.feature_drift_report(train_df, test_df, 'html')\n",
    "# model_monitoring.feature_drift_report(train_df, test_df, 'json')\n"
   ]
  },
  {
   "cell_type": "code",
   "execution_count": 6,
   "metadata": {},
   "outputs": [
    {
     "data": {
      "text/plain": [
       "{'metrics': [{'metric': 'ColumnDriftMetric',\n",
       "   'result': {'column_name': 'prediction',\n",
       "    'column_type': 'cat',\n",
       "    'stattest_name': 'Z-test p_value',\n",
       "    'stattest_threshold': 0.05,\n",
       "    'drift_score': 0.018051453253177918,\n",
       "    'drift_detected': True,\n",
       "    'current': {'small_distribution': {'x': ['No', 'Yes'], 'y': [658, 77]}},\n",
       "    'reference': {'small_distribution': {'x': ['No', 'Yes'],\n",
       "      'y': [628, 107]}}}},\n",
       "  {'metric': 'ColumnCorrelationsMetric',\n",
       "   'result': {'column_name': 'prediction',\n",
       "    'current': {'cramer_v': {'column_name': 'prediction',\n",
       "      'kind': 'cramer_v',\n",
       "      'values': {'x': ['Department',\n",
       "        'StockOptionLevel',\n",
       "        'Education',\n",
       "        'RelationshipSatisfaction',\n",
       "        'JobInvolvement',\n",
       "        'WorkLifeBalance',\n",
       "        'JobSatisfaction',\n",
       "        'EducationField',\n",
       "        'Gender',\n",
       "        'OverTime',\n",
       "        'BusinessTravel',\n",
       "        'JobLevel',\n",
       "        'PerformanceRating',\n",
       "        'JobRole',\n",
       "        'MaritalStatus',\n",
       "        'EnvironmentSatisfaction'],\n",
       "       'y': [0.04388210425206384,\n",
       "        0.19108242647921733,\n",
       "        0.1125900672867985,\n",
       "        0.07514483025462898,\n",
       "        0.05838313735921499,\n",
       "        0.025787869192066794,\n",
       "        0.07723155949311714,\n",
       "        0.06438966614808167,\n",
       "        0.04618023795652654,\n",
       "        0.2289065841727583,\n",
       "        0.05463400527831376,\n",
       "        0.36572424715772023,\n",
       "        0.05323098500664848,\n",
       "        0.33952906355740176,\n",
       "        0.22637780333095778,\n",
       "        0.09437166089799681]}}},\n",
       "    'reference': {'cramer_v': {'column_name': 'prediction',\n",
       "      'kind': 'cramer_v',\n",
       "      'values': {'x': ['Department',\n",
       "        'StockOptionLevel',\n",
       "        'Education',\n",
       "        'RelationshipSatisfaction',\n",
       "        'JobInvolvement',\n",
       "        'WorkLifeBalance',\n",
       "        'JobSatisfaction',\n",
       "        'EducationField',\n",
       "        'Gender',\n",
       "        'OverTime',\n",
       "        'BusinessTravel',\n",
       "        'JobLevel',\n",
       "        'PerformanceRating',\n",
       "        'JobRole',\n",
       "        'MaritalStatus',\n",
       "        'EnvironmentSatisfaction'],\n",
       "       'y': [0.11691184589538788,\n",
       "        0.23946051175339336,\n",
       "        0.10069904426431162,\n",
       "        0.041437925226475075,\n",
       "        0.158801302355443,\n",
       "        0.04607077070569488,\n",
       "        0.07036808050289253,\n",
       "        0.15374829654193065,\n",
       "        0.09970409339159339,\n",
       "        0.19457264330683646,\n",
       "        0.10580442273362278,\n",
       "        0.2754583488809119,\n",
       "        0.05964040260986538,\n",
       "        0.30976873698167634,\n",
       "        0.229201518635331,\n",
       "        0.1040700350473456]}}}}}]}"
      ]
     },
     "execution_count": 6,
     "metadata": {},
     "output_type": "execute_result"
    }
   ],
   "source": [
    "# on top of the feature report, we can also monitor the prediction column to see \n",
    "# how the prediction has shifted\n",
    "# model_monitoring.prediction_drift_report(full_train_df, full_test_df, 'html')\n",
    "model_monitoring.prediction_drift_report(full_train_df, full_test_df, 'json')"
   ]
  }
 ],
 "metadata": {
  "kernelspec": {
   "display_name": "Python 3 (ipykernel)",
   "language": "python",
   "name": "python3"
  },
  "language_info": {
   "codemirror_mode": {
    "name": "ipython",
    "version": 3
   },
   "file_extension": ".py",
   "mimetype": "text/x-python",
   "name": "python",
   "nbconvert_exporter": "python",
   "pygments_lexer": "ipython3",
   "version": "3.11.3"
  }
 },
 "nbformat": 4,
 "nbformat_minor": 2
}
