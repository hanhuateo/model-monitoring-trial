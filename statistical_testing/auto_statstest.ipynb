{
 "cells": [
  {
   "cell_type": "code",
   "execution_count": 1,
   "metadata": {},
   "outputs": [],
   "source": [
    "from src.auto_statstest import StatsTest\n",
    "from src.statstest import *\n",
    "\n",
    "np.random.seed(14)"
   ]
  },
  {
   "cell_type": "code",
   "execution_count": 3,
   "metadata": {},
   "outputs": [
    {
     "name": "stdout",
     "output_type": "stream",
     "text": [
      "<class 'pandas.core.frame.DataFrame'>\n",
      "RangeIndex: 10000 entries, 0 to 9999\n",
      "Data columns (total 12 columns):\n",
      " #   Column                          Non-Null Count  Dtype  \n",
      "---  ------                          --------------  -----  \n",
      " 0   normal1                         10000 non-null  float64\n",
      " 1   normal2                         10000 non-null  float64\n",
      " 2   normal3                         10000 non-null  float64\n",
      " 3   non-normal                      10000 non-null  float64\n",
      " 4   categorical_2_levels1           10000 non-null  object \n",
      " 5   dependent_categorical_3_levels  10000 non-null  object \n",
      " 6   categorical_2_levels2           10000 non-null  object \n",
      " 7   categorical_multi_levels        10000 non-null  object \n",
      " 8   diff_mean_normal_samples        10000 non-null  float64\n",
      " 9   categorical_fishers             10000 non-null  object \n",
      " 10  categorical_nofishers           10000 non-null  object \n",
      " 11  boolean                         10000 non-null  bool   \n",
      "dtypes: bool(1), float64(5), object(6)\n",
      "memory usage: 869.3+ KB\n"
     ]
    }
   ],
   "source": [
    "# import datasets\n",
    "\n",
    "df = pd.read_csv(\"synthetic_data.csv\") # synthetic dataset to showcase various cases below\n",
    "df2 = pd.read_csv(\"case_control.csv\")\n",
    "\n",
    "df.info()"
   ]
  },
  {
   "cell_type": "markdown",
   "metadata": {},
   "source": [
    "# AUTOSTATSTEST"
   ]
  },
  {
   "cell_type": "markdown",
   "metadata": {},
   "source": [
    "*1. Create class instance - StatsTest*\n",
    "\n",
    "parameter 1 = data (in pandas dataframe/numpy array)\n",
    "\n",
    "parameter 2 = level of significance (optional)"
   ]
  },
  {
   "cell_type": "code",
   "execution_count": 4,
   "metadata": {},
   "outputs": [],
   "source": [
    "test = StatsTest(df) # default level of significance = 0.05\n",
    "test2 = StatsTest(df, alpha = 0.2)"
   ]
  },
  {
   "cell_type": "markdown",
   "metadata": {},
   "source": [
    "*2. Call class method - autostatstest*\n",
    "\n",
    "parameter 1 = dependent variable \n",
    "\n",
    "parameter 2 = independent variable "
   ]
  },
  {
   "cell_type": "markdown",
   "metadata": {},
   "source": [
    "*3. View & retrieve stored results (if needed)*"
   ]
  },
  {
   "cell_type": "markdown",
   "metadata": {},
   "source": [
    "**EXAMPLE CASES**"
   ]
  },
  {
   "cell_type": "code",
   "execution_count": 5,
   "metadata": {},
   "outputs": [
    {
     "ename": "ValueError",
     "evalue": "Input column 'normal' is not in the dataset. Please try again.",
     "output_type": "error",
     "traceback": [
      "\u001b[1;31m---------------------------------------------------------------------------\u001b[0m",
      "\u001b[1;31mValueError\u001b[0m                                Traceback (most recent call last)",
      "Cell \u001b[1;32mIn[5], line 3\u001b[0m\n\u001b[0;32m      1\u001b[0m \u001b[39m# case 1 - column does not exist in dataset\u001b[39;00m\n\u001b[1;32m----> 3\u001b[0m result1 \u001b[39m=\u001b[39m test\u001b[39m.\u001b[39;49mautostatstest(\u001b[39m\"\u001b[39;49m\u001b[39mnormal1\u001b[39;49m\u001b[39m\"\u001b[39;49m, \u001b[39m\"\u001b[39;49m\u001b[39mnormal\u001b[39;49m\u001b[39m\"\u001b[39;49m)\n",
      "File \u001b[1;32mc:\\Users\\Lam Hao Fah\\OneDrive\\Desktop\\intern\\statstest\\statistical_testing\\src\\auto_statstest.py:24\u001b[0m, in \u001b[0;36mStatsTest.autostatstest\u001b[1;34m(self, *columns)\u001b[0m\n\u001b[0;32m     22\u001b[0m \u001b[39mfor\u001b[39;00m column \u001b[39min\u001b[39;00m columns:\n\u001b[0;32m     23\u001b[0m     \u001b[39mif\u001b[39;00m column \u001b[39mnot\u001b[39;00m \u001b[39min\u001b[39;00m \u001b[39mself\u001b[39m\u001b[39m.\u001b[39mdata\u001b[39m.\u001b[39mcolumns:\n\u001b[1;32m---> 24\u001b[0m         \u001b[39mraise\u001b[39;00m \u001b[39mValueError\u001b[39;00m(\u001b[39mf\u001b[39m\u001b[39m\"\u001b[39m\u001b[39mInput column \u001b[39m\u001b[39m'\u001b[39m\u001b[39m{\u001b[39;00mcolumn\u001b[39m}\u001b[39;00m\u001b[39m'\u001b[39m\u001b[39m is not in the dataset. Please try again.\u001b[39m\u001b[39m\"\u001b[39m)\n\u001b[0;32m     25\u001b[0m     \u001b[39mif\u001b[39;00m \u001b[39mself\u001b[39m\u001b[39m.\u001b[39mdata[column]\u001b[39m.\u001b[39mdtype \u001b[39mnot\u001b[39;00m \u001b[39min\u001b[39;00m (\u001b[39mself\u001b[39m\u001b[39m.\u001b[39mcont_dtypes \u001b[39m+\u001b[39m \u001b[39mself\u001b[39m\u001b[39m.\u001b[39mcat_dtypes):\n\u001b[0;32m     26\u001b[0m         \u001b[39mraise\u001b[39;00m \u001b[39mValueError\u001b[39;00m(\u001b[39mf\u001b[39m\u001b[39m\"\u001b[39m\u001b[39mInput column \u001b[39m\u001b[39m'\u001b[39m\u001b[39m{\u001b[39;00mcolumn\u001b[39m}\u001b[39;00m\u001b[39m'\u001b[39m\u001b[39m is not of a valid datatype. Please try again.\u001b[39m\u001b[39m\"\u001b[39m)\n",
      "\u001b[1;31mValueError\u001b[0m: Input column 'normal' is not in the dataset. Please try again."
     ]
    }
   ],
   "source": [
    "# case 1 - column does not exist in dataset\n",
    "\n",
    "result1 = test.autostatstest(\"normal1\", \"normal\")"
   ]
  },
  {
   "cell_type": "code",
   "execution_count": 6,
   "metadata": {},
   "outputs": [
    {
     "ename": "ValueError",
     "evalue": "Input column 'boolean' is not of a valid datatype. Please try again.",
     "output_type": "error",
     "traceback": [
      "\u001b[1;31m---------------------------------------------------------------------------\u001b[0m",
      "\u001b[1;31mValueError\u001b[0m                                Traceback (most recent call last)",
      "Cell \u001b[1;32mIn[6], line 3\u001b[0m\n\u001b[0;32m      1\u001b[0m \u001b[39m# case 2 - column has inappropriate datatype\u001b[39;00m\n\u001b[1;32m----> 3\u001b[0m result2 \u001b[39m=\u001b[39m test\u001b[39m.\u001b[39;49mautostatstest(\u001b[39m\"\u001b[39;49m\u001b[39mnormal1\u001b[39;49m\u001b[39m\"\u001b[39;49m, \u001b[39m\"\u001b[39;49m\u001b[39mboolean\u001b[39;49m\u001b[39m\"\u001b[39;49m)\n",
      "File \u001b[1;32mc:\\Users\\Lam Hao Fah\\OneDrive\\Desktop\\intern\\statstest\\statistical_testing\\src\\auto_statstest.py:26\u001b[0m, in \u001b[0;36mStatsTest.autostatstest\u001b[1;34m(self, *columns)\u001b[0m\n\u001b[0;32m     24\u001b[0m         \u001b[39mraise\u001b[39;00m \u001b[39mValueError\u001b[39;00m(\u001b[39mf\u001b[39m\u001b[39m\"\u001b[39m\u001b[39mInput column \u001b[39m\u001b[39m'\u001b[39m\u001b[39m{\u001b[39;00mcolumn\u001b[39m}\u001b[39;00m\u001b[39m'\u001b[39m\u001b[39m is not in the dataset. Please try again.\u001b[39m\u001b[39m\"\u001b[39m)\n\u001b[0;32m     25\u001b[0m     \u001b[39mif\u001b[39;00m \u001b[39mself\u001b[39m\u001b[39m.\u001b[39mdata[column]\u001b[39m.\u001b[39mdtype \u001b[39mnot\u001b[39;00m \u001b[39min\u001b[39;00m (\u001b[39mself\u001b[39m\u001b[39m.\u001b[39mcont_dtypes \u001b[39m+\u001b[39m \u001b[39mself\u001b[39m\u001b[39m.\u001b[39mcat_dtypes):\n\u001b[1;32m---> 26\u001b[0m         \u001b[39mraise\u001b[39;00m \u001b[39mValueError\u001b[39;00m(\u001b[39mf\u001b[39m\u001b[39m\"\u001b[39m\u001b[39mInput column \u001b[39m\u001b[39m'\u001b[39m\u001b[39m{\u001b[39;00mcolumn\u001b[39m}\u001b[39;00m\u001b[39m'\u001b[39m\u001b[39m is not of a valid datatype. Please try again.\u001b[39m\u001b[39m\"\u001b[39m)\n\u001b[0;32m     27\u001b[0m \u001b[39mif\u001b[39;00m \u001b[39mlen\u001b[39m(\u001b[39mset\u001b[39m(columns)) \u001b[39m!=\u001b[39m \u001b[39mlen\u001b[39m(columns):\n\u001b[0;32m     28\u001b[0m     \u001b[39mraise\u001b[39;00m \u001b[39mValueError\u001b[39;00m(\u001b[39m\"\u001b[39m\u001b[39mInput columns must be unique. Please try again.\u001b[39m\u001b[39m\"\u001b[39m)\n",
      "\u001b[1;31mValueError\u001b[0m: Input column 'boolean' is not of a valid datatype. Please try again."
     ]
    }
   ],
   "source": [
    "# case 2 - column has inappropriate datatype\n",
    "\n",
    "result2 = test.autostatstest(\"normal1\", \"boolean\")"
   ]
  },
  {
   "cell_type": "code",
   "execution_count": 7,
   "metadata": {},
   "outputs": [
    {
     "name": "stdout",
     "output_type": "stream",
     "text": [
      "\n",
      "Column 'normal1' is normally distributed.\n",
      "\n",
      "Column 'normal2' is normally distributed.\n",
      "\n",
      "----- Conducted Pearson's Correlation -----\n",
      "\n",
      "Pearson's Correlation statistic = 0.006323, p-value = 0.527231\n",
      "Level of significance = 0.05\n",
      "Null hypothesis (H0) = No linear relationship between the variables\n",
      "Conclusion = Fail to reject null hypothesis (H0)\n"
     ]
    }
   ],
   "source": [
    "# case 3 - continuous normal vs continuous normal (pearson's correlation)\n",
    "\n",
    "result3 = test.autostatstest(\"normal1\", \"normal2\")"
   ]
  },
  {
   "cell_type": "markdown",
   "metadata": {},
   "source": [
    "*Extracting results without post-hoc tests:*"
   ]
  },
  {
   "cell_type": "code",
   "execution_count": 8,
   "metadata": {},
   "outputs": [
    {
     "data": {
      "text/plain": [
       "DatkPearsonrResult(statistic=0.006323105498256652, pvalue=0.527231483649771, significant=False)"
      ]
     },
     "execution_count": 8,
     "metadata": {},
     "output_type": "execute_result"
    }
   ],
   "source": [
    "result3"
   ]
  },
  {
   "cell_type": "code",
   "execution_count": 9,
   "metadata": {},
   "outputs": [
    {
     "data": {
      "text/plain": [
       "0.527231483649771"
      ]
     },
     "execution_count": 9,
     "metadata": {},
     "output_type": "execute_result"
    }
   ],
   "source": [
    "result3.pvalue"
   ]
  },
  {
   "cell_type": "code",
   "execution_count": 10,
   "metadata": {},
   "outputs": [
    {
     "name": "stdout",
     "output_type": "stream",
     "text": [
      "\n",
      "Column 'normal1' is normally distributed.\n",
      "\n",
      "Column 'non-normal' is not normally distributed.\n",
      "\n",
      "Non-parametric Spearman's Correlation Test is recommended as one or more columns have non-normal distribution.\n",
      "\n",
      "----- Conducted Spearman's Correlation -----\n",
      "\n",
      "Spearman's Correlation statistic = 0.013385, p-value = 0.180783\n",
      "Level of significance = 0.05\n",
      "Null hypothesis (H0) = No monotonic relationship between the variables\n",
      "Conclusion = Fail to reject null hypothesis (H0)\n"
     ]
    }
   ],
   "source": [
    "# case 4 - continuous normal vs continuous non-normal (spearman's correlation)\n",
    "\n",
    "result4 = test.autostatstest(\"normal1\", \"non-normal\")"
   ]
  },
  {
   "cell_type": "code",
   "execution_count": 11,
   "metadata": {},
   "outputs": [
    {
     "name": "stdout",
     "output_type": "stream",
     "text": [
      "\n",
      "----- Conducted Chi-square Test of Independence -----\n",
      "\n",
      "| categorical_2_levels1   |   No |   Yes |\n",
      "|:------------------------|-----:|------:|\n",
      "| Female                  | 2550 |  2551 |\n",
      "| Male                    | 2461 |  2438 |\n",
      "\n",
      "Chi-square Test of Independence statistic = 0.050396, p-value = 0.822376\n",
      "Level of significance = 0.05\n",
      "Null hypothesis (H0) = Variables are independent from each other\n",
      "Conclusion = Fail to reject null hypothesis (H0)\n"
     ]
    }
   ],
   "source": [
    "# case 5 - categorical 2 levels vs categorical 2 levels (chi-square test) (results insignificant)\n",
    "\n",
    "result5 = test.autostatstest(\"categorical_2_levels1\", \"categorical_2_levels2\")"
   ]
  },
  {
   "cell_type": "code",
   "execution_count": 12,
   "metadata": {},
   "outputs": [
    {
     "name": "stdout",
     "output_type": "stream",
     "text": [
      "\n",
      "----- Conducted Chi-square Test of Independence -----\n",
      "\n",
      "| categorical_2_levels1   |   Blue |   Green |   Orange |   Red |\n",
      "|:------------------------|-------:|--------:|---------:|------:|\n",
      "| Female                  |   1249 |    1294 |     1291 |  1267 |\n",
      "| Male                    |   1189 |    1212 |     1227 |  1271 |\n",
      "\n",
      "Chi-square Test of Independence statistic = 1.713072, p-value = 0.634032\n",
      "Level of significance = 0.05\n",
      "Null hypothesis (H0) = Variables are independent from each other\n",
      "Conclusion = Fail to reject null hypothesis (H0)\n"
     ]
    }
   ],
   "source": [
    "# case 6 - categorical 2 levels vs categorical > 2 levels (chi-square test) (results insignificant)\n",
    "\n",
    "result6 = test.autostatstest(\"categorical_2_levels1\", \"categorical_multi_levels\")"
   ]
  },
  {
   "cell_type": "code",
   "execution_count": 13,
   "metadata": {},
   "outputs": [
    {
     "name": "stdout",
     "output_type": "stream",
     "text": [
      "\n",
      "----- Conducted Chi-square Test of Independence -----\n",
      "\n",
      "| categorical_2_levels1   |    A |    B |    C |\n",
      "|:------------------------|-----:|-----:|-----:|\n",
      "| Female                  | 1574 | 2492 | 1035 |\n",
      "| Male                    | 2864 | 1046 |  989 |\n",
      "\n",
      "Chi-square Test of Independence statistic = 963.312454, p-value = 0.000000\n",
      "Level of significance = 0.05\n",
      "Null hypothesis (H0) = Variables are independent from each other\n",
      "Conclusion = Reject null hypothesis (H0)\n",
      "\n",
      "----- Conducted Post-hoc Analysis using Multiple Comparisons Correction -----\n",
      "\n",
      "('A', 'B'): p-value = 3.482469367701404e-211, corrected p-value = 1.0447408103104213e-210, significant = True\n",
      "('A', 'C'): p-value = 1.5043637150254447e-32, corrected p-value = 1.5043637150254447e-32, significant = True\n",
      "('B', 'C'): p-value = 1.1063385068377032e-46, corrected p-value = 1.6595077602565549e-46, significant = True\n"
     ]
    }
   ],
   "source": [
    "# case 7 - categorical 2 levels vs categorical > 2 levels (chi-square test) (results significant) \n",
    "\n",
    "result7 = test.autostatstest(\"categorical_2_levels1\", \"dependent_categorical_3_levels\")"
   ]
  },
  {
   "cell_type": "markdown",
   "metadata": {},
   "source": [
    "*Extracting results with post-hoc tests:*"
   ]
  },
  {
   "cell_type": "code",
   "execution_count": 14,
   "metadata": {},
   "outputs": [
    {
     "data": {
      "text/plain": [
       "{'chi2': DatkChi2Result(statistic=963.3124544371774, pvalue=6.597180166003396e-210, significant=True),\n",
       " 'post-hoc': [DatkChi2PostHocResult(combi=('A', 'B'), pvalue=3.482469367701404e-211, significant=True, corrected_pvalue=1.0447408103104213e-210),\n",
       "  DatkChi2PostHocResult(combi=('A', 'C'), pvalue=1.5043637150254447e-32, significant=True, corrected_pvalue=1.5043637150254447e-32),\n",
       "  DatkChi2PostHocResult(combi=('B', 'C'), pvalue=1.1063385068377032e-46, significant=True, corrected_pvalue=1.6595077602565549e-46)]}"
      ]
     },
     "execution_count": 14,
     "metadata": {},
     "output_type": "execute_result"
    }
   ],
   "source": [
    "result7"
   ]
  },
  {
   "cell_type": "code",
   "execution_count": 15,
   "metadata": {},
   "outputs": [
    {
     "data": {
      "text/plain": [
       "6.597180166003396e-210"
      ]
     },
     "execution_count": 15,
     "metadata": {},
     "output_type": "execute_result"
    }
   ],
   "source": [
    "result7[\"chi2\"].pvalue"
   ]
  },
  {
   "cell_type": "code",
   "execution_count": 16,
   "metadata": {},
   "outputs": [
    {
     "data": {
      "text/plain": [
       "1.5043637150254447e-32"
      ]
     },
     "execution_count": 16,
     "metadata": {},
     "output_type": "execute_result"
    }
   ],
   "source": [
    "result7[\"post-hoc\"][1].corrected_pvalue"
   ]
  },
  {
   "cell_type": "code",
   "execution_count": 17,
   "metadata": {},
   "outputs": [
    {
     "name": "stdout",
     "output_type": "stream",
     "text": [
      "('A', 'B')\n",
      "('A', 'C')\n",
      "('B', 'C')\n"
     ]
    }
   ],
   "source": [
    "# function to print all significant categories from post-hoc test results\n",
    "\n",
    "print_significant_categories(result7)"
   ]
  },
  {
   "cell_type": "code",
   "execution_count": 18,
   "metadata": {},
   "outputs": [
    {
     "name": "stdout",
     "output_type": "stream",
     "text": [
      "\n",
      "Fisher's Exact Test is recommended as assumption of Chi-square Test of Independence is violated (Each cell in contingency table should be at least 5) and contingency table is 2x2 in shape.\n",
      "\n",
      "----- Conducted Fisher's Exact Test -----\n",
      "\n",
      "| categorical_2_levels2   |   A |    B |\n",
      "|:------------------------|----:|-----:|\n",
      "| No                      |   3 | 5008 |\n",
      "| Yes                     |   0 | 4989 |\n",
      "\n",
      "Fisher's Exact Test statistic = inf, p-value = 0.249929\n",
      "Level of significance = 0.05\n",
      "Null hypothesis (H0) = Variables are independent from each other\n",
      "Conclusion = Fail to reject null hypothesis (H0)\n"
     ]
    }
   ],
   "source": [
    "# case 8 - categorical 2 levels vs categorial 2 levels (fisher's exact test) [chi square assumption fails and contingency table is 2x2]\n",
    "\n",
    "result8 = test.autostatstest(\"categorical_2_levels2\", \"categorical_fishers\")"
   ]
  },
  {
   "cell_type": "code",
   "execution_count": 19,
   "metadata": {},
   "outputs": [
    {
     "name": "stdout",
     "output_type": "stream",
     "text": [
      "\n",
      "----- Conducted Chi-square Test of Independence -----\n",
      "\n",
      "| categorical_2_levels1   |   A |    B |   C |\n",
      "|:------------------------|----:|-----:|----:|\n",
      "| Female                  |   2 | 5097 |   2 |\n",
      "| Male                    |   3 | 4893 |   3 |\n",
      "\n",
      "Chi-square Test of Independence statistic = 0.485564, p-value = 0.784443\n",
      "Level of significance = 0.05\n",
      "Null hypothesis (H0) = Variables are independent from each other\n",
      "Conclusion = Fail to reject null hypothesis (H0)\n"
     ]
    },
    {
     "name": "stderr",
     "output_type": "stream",
     "text": [
      "\n",
      "c:\\Users\\Lam Hao Fah\\OneDrive\\Desktop\\intern\\statstest\\statistical_testing\\src\\statstest.py:121: UserWarning: Assumption of Chi-square Test of Independence is violated (Each cell in contingency table should be at least 5).\n"
     ]
    }
   ],
   "source": [
    "# case 9 - categorical 2 levels vs categorical > 2 levels (chi-square test) [chi-square assumption fails but contingency table is not 2x2]\n",
    "\n",
    "result9 = test.autostatstest(\"categorical_2_levels1\", \"categorical_nofishers\")"
   ]
  },
  {
   "cell_type": "code",
   "execution_count": 20,
   "metadata": {},
   "outputs": [
    {
     "name": "stdout",
     "output_type": "stream",
     "text": [
      "\n",
      "Column 'normal1' is normally distributed.\n",
      "\n",
      "----- Conducted Independent Student's T-Test -----\n",
      "\n",
      "Samples have equal variance according to Levene Test\n",
      "Sample 1 mean: 0.0019\n",
      "Sample 2 mean: -0.0123\n",
      "\n",
      "Independent Student's T-Test statistic = 0.696498, p-value = 0.486133\n",
      "Level of significance = 0.05\n",
      "Null hypothesis (H0) = Samples have identical means\n",
      "Conclusion = Fail to reject null hypothesis (H0)\n"
     ]
    }
   ],
   "source": [
    "# case 10 - continuous normal vs categorical 2 levels (student's independent t-test)\n",
    "\n",
    "result10 = test.autostatstest(\"normal1\", \"categorical_2_levels1\")"
   ]
  },
  {
   "cell_type": "code",
   "execution_count": 21,
   "metadata": {},
   "outputs": [
    {
     "name": "stdout",
     "output_type": "stream",
     "text": [
      "\n",
      "Column 'non-normal' is not normally distributed.\n",
      "\n",
      "Non-parametric Mann-Whitney U Test is recommended as dependent variable has non-normal distribution.\n",
      "\n",
      "----- Conducted Mann-Whitney U Test -----\n",
      "\n",
      "Sample 1 median: 0.511\n",
      "Sample 2 median: 0.5009\n",
      "\n",
      "Mann-Whitney U Test statistic = 12597213.000000, p-value = 0.478353\n",
      "Level of significance = 0.05\n",
      "Null hypothesis (H0) = Samples have identical medians\n",
      "Conclusion = Fail to reject null hypothesis (H0)\n"
     ]
    }
   ],
   "source": [
    "# case 11 - continuous non-normal vs categorical 2 levels (mann-whitney u test)\n",
    "\n",
    "result11 = test.autostatstest(\"non-normal\", \"categorical_2_levels1\")"
   ]
  },
  {
   "cell_type": "code",
   "execution_count": 22,
   "metadata": {},
   "outputs": [
    {
     "name": "stdout",
     "output_type": "stream",
     "text": [
      "\n",
      "Column 'normal1' is normally distributed.\n",
      "\n",
      "One-way ANOVA is recommended as independent variable has more than 2 categories.\n",
      "\n",
      "----- Conducted One-way ANOVA -----\n",
      "\n",
      "Samples have equal variance according to Levene Test\n",
      "Sample 1 mean: -0.022268012275382745\n",
      "Sample 2 mean: 0.038590753127707975\n",
      "Sample 3 mean: -0.004087864528348485\n",
      "Sample 4 mean: -0.03117921542210321\n",
      "\n",
      "One-way ANOVA statistic = 2.300516, p-value = 0.075171\n",
      "Level of significance = 0.05\n",
      "Null hypothesis (H0) = Samples have identical means\n",
      "Conclusion = Fail to reject null hypothesis (H0)\n"
     ]
    }
   ],
   "source": [
    "# case 12 - continuous normal vs categorical > 2 levels (one-way anova) (results insignificant)\n",
    "\n",
    "result12 = test.autostatstest(\"normal1\", \"categorical_multi_levels\")"
   ]
  },
  {
   "cell_type": "code",
   "execution_count": 23,
   "metadata": {},
   "outputs": [
    {
     "name": "stdout",
     "output_type": "stream",
     "text": [
      "\n",
      "Column 'normal1' is normally distributed.\n",
      "\n",
      "One-way ANOVA is recommended as independent variable has more than 2 categories.\n",
      "\n",
      "----- Conducted One-way ANOVA -----\n",
      "\n",
      "Samples have equal variance according to Levene Test\n",
      "Sample 1 mean: -0.00257382801082104\n",
      "Sample 2 mean: -0.041299923115269255\n",
      "Sample 3 mean: 0.012552302389702334\n",
      "\n",
      "One-way ANOVA statistic = 1.836290, p-value = 0.159461\n",
      "Level of significance = 0.2\n",
      "Null hypothesis (H0) = Samples have identical means\n",
      "Conclusion = Reject null hypothesis (H0)\n",
      "\n",
      "----- Conducted post-hoc analysis using Tukey's HSD Test -----\n",
      "\n",
      "('A', 'C'): p-value = 0.3298167019108571, significant = False\n",
      "('A', 'B'): p-value = 0.7652610526926076, significant = False\n",
      "('C', 'B'): p-value = 0.13763072635349416, significant = True\n"
     ]
    }
   ],
   "source": [
    "# case 13 - continuous normal vs categorical > 2 levels (one-way anova) (results significant)\n",
    "\n",
    "result13 = test2.autostatstest(\"normal1\", \"dependent_categorical_3_levels\")"
   ]
  },
  {
   "cell_type": "code",
   "execution_count": 24,
   "metadata": {},
   "outputs": [
    {
     "name": "stdout",
     "output_type": "stream",
     "text": [
      "\n",
      "Column 'non-normal' is not normally distributed.\n",
      "\n",
      "Non-parametric Kruskal-Wallis Test is recommended as dependent variable has non-normal distribution.\n",
      "\n",
      "----- Conducted Kruskal-Wallis Test -----\n",
      "\n",
      "Samples have equal variance according to Levene Test\n",
      "Sample 1 median: 0.5110231902601691\n",
      "Sample 2 median: 0.49787893472981626\n",
      "Sample 3 median: 0.5081001249490381\n",
      "Sample 4 median: 0.5068358433360468\n",
      "\n",
      "Kruskal-Wallis Test statistic = 1.433220, p-value = 0.697767\n",
      "Level of significance = 0.05\n",
      "Null hypothesis (H0) = Samples have identical medians\n",
      "Conclusion = Fail to reject null hypothesis (H0)\n"
     ]
    }
   ],
   "source": [
    "# case 14 - continuous non-normal vs categorical > 2 levels (kruskal-wallis test) (not significant)\n",
    "\n",
    "result14 = test.autostatstest(\"non-normal\", \"categorical_multi_levels\")"
   ]
  },
  {
   "cell_type": "code",
   "execution_count": 25,
   "metadata": {},
   "outputs": [
    {
     "name": "stdout",
     "output_type": "stream",
     "text": [
      "\n",
      "Column 'diff_mean_normal_samples' is not normally distributed.\n",
      "\n",
      "Non-parametric Kruskal-Wallis Test is recommended as dependent variable has non-normal distribution.\n",
      "\n",
      "----- Conducted Kruskal-Wallis Test -----\n",
      "\n",
      "Samples have equal variance according to Levene Test\n",
      "Sample 1 median: 20.040293312568075\n",
      "Sample 2 median: 30.000850608980677\n",
      "Sample 3 median: 10.017259230965943\n",
      "Sample 4 median: 39.984323622953276\n",
      "\n",
      "Kruskal-Wallis Test statistic = 9373.640810, p-value = 0.000000\n",
      "Level of significance = 0.05\n",
      "Null hypothesis (H0) = Samples have identical medians\n",
      "Conclusion = Reject null hypothesis (H0)\n",
      "\n",
      "----- Conducted post-hoc analysis using Dunn's Test -----\n",
      "\n",
      "('Blue', 'Green'): p-value = 4.656502042359794e-199, significant = True\n",
      "('Blue', 'Orange'): p-value = 1.7558624993534906e-200, significant = True\n",
      "('Blue', 'Red'): p-value = 0.0, significant = True\n",
      "('Green', 'Orange'): p-value = 0.0, significant = True\n",
      "('Green', 'Red'): p-value = 2.765475226006906e-211, significant = True\n",
      "('Orange', 'Red'): p-value = 0.0, significant = True\n"
     ]
    }
   ],
   "source": [
    "# case 15 - continuous non-normal vs categorical > 2 levels (kruskal-wallis test) (results significant)\n",
    "\n",
    "result15 = test.autostatstest(\"diff_mean_normal_samples\", \"categorical_multi_levels\")"
   ]
  },
  {
   "cell_type": "markdown",
   "metadata": {},
   "source": [
    "# AUTOSTATSTEST_ALL"
   ]
  },
  {
   "cell_type": "markdown",
   "metadata": {},
   "source": [
    "**This class method takes one column as input (dependent variable). Autostatstest is then conducted with all other columns in the dataset, assuming datatypes are appropriate. Results of statistical tests are stored in a dictionary. All errors raised are printed and stored as results as well.**"
   ]
  },
  {
   "cell_type": "markdown",
   "metadata": {},
   "source": [
    "*1. Create class instance - StatsTest*\n",
    "\n",
    "parameter 1 = data (in pandas dataframe/numpy array)\n",
    "\n",
    "parameter 2 = level of significance (optional)"
   ]
  },
  {
   "cell_type": "markdown",
   "metadata": {},
   "source": [
    "*2. Call class method - autostatstest_all*\n",
    "\n"
   ]
  },
  {
   "cell_type": "markdown",
   "metadata": {},
   "source": [
    "*3. View & retrieve stored results in the dictionary (if needed)*"
   ]
  },
  {
   "cell_type": "markdown",
   "metadata": {},
   "source": [
    "**EXAMPLE CASES**"
   ]
  },
  {
   "cell_type": "code",
   "execution_count": 26,
   "metadata": {},
   "outputs": [
    {
     "name": "stdout",
     "output_type": "stream",
     "text": [
      "\n",
      "\u001b[1mTest 1: normal1 vs normal2\u001b[0m\n",
      "\n",
      "Column 'normal1' is normally distributed.\n",
      "\n",
      "Column 'normal2' is normally distributed.\n",
      "\n",
      "----- Conducted Pearson's Correlation -----\n",
      "\n",
      "Pearson's Correlation statistic = 0.006323, p-value = 0.527231\n",
      "Level of significance = 0.05\n",
      "Null hypothesis (H0) = No linear relationship between the variables\n",
      "Conclusion = Fail to reject null hypothesis (H0)\n",
      "\n",
      "\u001b[1mTest 2: normal1 vs normal3\u001b[0m\n",
      "\n",
      "Column 'normal1' is normally distributed.\n",
      "\n",
      "Column 'normal3' is normally distributed.\n",
      "\n",
      "----- Conducted Pearson's Correlation -----\n",
      "\n",
      "Pearson's Correlation statistic = 0.007523, p-value = 0.451896\n",
      "Level of significance = 0.05\n",
      "Null hypothesis (H0) = No linear relationship between the variables\n",
      "Conclusion = Fail to reject null hypothesis (H0)\n",
      "\n",
      "\u001b[1mTest 3: normal1 vs non-normal\u001b[0m\n",
      "\n",
      "Column 'normal1' is normally distributed.\n",
      "\n",
      "Column 'non-normal' is not normally distributed.\n",
      "\n",
      "Non-parametric Spearman's Correlation Test is recommended as one or more columns have non-normal distribution.\n",
      "\n",
      "----- Conducted Spearman's Correlation -----\n",
      "\n",
      "Spearman's Correlation statistic = 0.013385, p-value = 0.180783\n",
      "Level of significance = 0.05\n",
      "Null hypothesis (H0) = No monotonic relationship between the variables\n",
      "Conclusion = Fail to reject null hypothesis (H0)\n",
      "\n",
      "\u001b[1mTest 4: normal1 vs categorical_2_levels1\u001b[0m\n",
      "\n",
      "Column 'normal1' is normally distributed.\n",
      "\n",
      "----- Conducted Independent Student's T-Test -----\n",
      "\n",
      "Samples have equal variance according to Levene Test\n",
      "Sample 1 mean: 0.0019\n",
      "Sample 2 mean: -0.0123\n",
      "\n",
      "Independent Student's T-Test statistic = 0.696498, p-value = 0.486133\n",
      "Level of significance = 0.05\n",
      "Null hypothesis (H0) = Samples have identical means\n",
      "Conclusion = Fail to reject null hypothesis (H0)\n",
      "\n",
      "\u001b[1mTest 5: normal1 vs dependent_categorical_3_levels\u001b[0m\n",
      "\n",
      "Column 'normal1' is normally distributed.\n",
      "\n",
      "One-way ANOVA is recommended as independent variable has more than 2 categories.\n",
      "\n",
      "----- Conducted One-way ANOVA -----\n",
      "\n",
      "Samples have equal variance according to Levene Test\n",
      "Sample 1 mean: -0.00257382801082104\n",
      "Sample 2 mean: -0.041299923115269255\n",
      "Sample 3 mean: 0.012552302389702334\n",
      "\n",
      "One-way ANOVA statistic = 1.836290, p-value = 0.159461\n",
      "Level of significance = 0.05\n",
      "Null hypothesis (H0) = Samples have identical means\n",
      "Conclusion = Fail to reject null hypothesis (H0)\n",
      "\n",
      "\u001b[1mTest 6: normal1 vs categorical_2_levels2\u001b[0m\n",
      "\n",
      "Column 'normal1' is normally distributed.\n",
      "\n",
      "----- Conducted Independent Student's T-Test -----\n",
      "\n",
      "Samples have equal variance according to Levene Test\n",
      "Sample 1 mean: -0.0281\n",
      "Sample 2 mean: 0.0178\n",
      "\n",
      "Independent Student's T-Test statistic = -2.260487, p-value = 0.023812\n",
      "Level of significance = 0.05\n",
      "Null hypothesis (H0) = Samples have identical means\n",
      "Conclusion = Reject null hypothesis (H0)\n",
      "\n",
      "\u001b[1mTest 7: normal1 vs categorical_multi_levels\u001b[0m\n",
      "\n",
      "Column 'normal1' is normally distributed.\n",
      "\n",
      "One-way ANOVA is recommended as independent variable has more than 2 categories.\n",
      "\n",
      "----- Conducted One-way ANOVA -----\n",
      "\n",
      "Samples have equal variance according to Levene Test\n",
      "Sample 1 mean: -0.022268012275382745\n",
      "Sample 2 mean: 0.038590753127707975\n",
      "Sample 3 mean: -0.004087864528348485\n",
      "Sample 4 mean: -0.03117921542210321\n",
      "\n",
      "One-way ANOVA statistic = 2.300516, p-value = 0.075171\n",
      "Level of significance = 0.05\n",
      "Null hypothesis (H0) = Samples have identical means\n",
      "Conclusion = Fail to reject null hypothesis (H0)\n",
      "\n",
      "\u001b[1mTest 8: normal1 vs diff_mean_normal_samples\u001b[0m\n",
      "\n",
      "Column 'normal1' is normally distributed.\n",
      "\n",
      "Column 'diff_mean_normal_samples' is not normally distributed.\n",
      "\n",
      "Non-parametric Spearman's Correlation Test is recommended as one or more columns have non-normal distribution.\n",
      "\n",
      "----- Conducted Spearman's Correlation -----\n",
      "\n",
      "Spearman's Correlation statistic = -0.003588, p-value = 0.719754\n",
      "Level of significance = 0.05\n",
      "Null hypothesis (H0) = No monotonic relationship between the variables\n",
      "Conclusion = Fail to reject null hypothesis (H0)\n",
      "\n",
      "\u001b[1mTest 9: normal1 vs categorical_fishers\u001b[0m\n",
      "\n",
      "Column 'normal1' is normally distributed.\n",
      "\n",
      "----- Conducted Independent Student's T-Test -----\n",
      "\n",
      "Samples have equal variance according to Levene Test\n",
      "Sample 1 mean: -0.0053\n",
      "Sample 2 mean: 0.7096\n",
      "\n",
      "Independent Student's T-Test statistic = -1.219705, p-value = 0.222605\n",
      "Level of significance = 0.05\n",
      "Null hypothesis (H0) = Samples have identical means\n",
      "Conclusion = Fail to reject null hypothesis (H0)\n",
      "\n",
      "\u001b[1mTest 10: normal1 vs categorical_nofishers\u001b[0m\n",
      "\n",
      "Column 'normal1' is normally distributed.\n",
      "\n",
      "One-way ANOVA is recommended as independent variable has more than 2 categories.\n",
      "\n",
      "----- Conducted One-way ANOVA -----\n",
      "\n",
      "Samples have equal variance according to Levene Test\n",
      "Sample 1 mean: -0.005006728809736263\n",
      "Sample 2 mean: 0.16684164450905575\n",
      "Sample 3 mean: -0.28412693116850474\n",
      "\n",
      "One-way ANOVA statistic = 0.260658, p-value = 0.770549\n",
      "Level of significance = 0.05\n",
      "Null hypothesis (H0) = Samples have identical means\n",
      "Conclusion = Fail to reject null hypothesis (H0)\n",
      "\n",
      "\u001b[1mTest 11: normal1 vs boolean\u001b[0m\n",
      "\n",
      "Input column 'boolean' is not of a valid datatype. Please try again.\n"
     ]
    }
   ],
   "source": [
    "result_all_1 = test.autostatstest_all(\"normal1\")"
   ]
  },
  {
   "cell_type": "code",
   "execution_count": 27,
   "metadata": {},
   "outputs": [
    {
     "data": {
      "text/plain": [
       "{'normal2': DatkPearsonrResult(statistic=0.006323105498256652, pvalue=0.527231483649771, significant=False),\n",
       " 'normal3': DatkPearsonrResult(statistic=0.007523414893723428, pvalue=0.45189586823596, significant=False),\n",
       " 'non-normal': DatkSpearmanrResult(statistic=0.013384566625845667, pvalue=0.18078260126597606, significant=False),\n",
       " 'categorical_2_levels1': DatkTTestResult(statistic=0.6964982784951681, pvalue=0.4861330268721993, significant=False),\n",
       " 'dependent_categorical_3_levels': DatkOneWayAnovaResult(statistic=1.8362901753835394, pvalue=0.15946146883768222, significant=False),\n",
       " 'categorical_2_levels2': DatkTTestResult(statistic=-2.2604870701425077, pvalue=0.023812450776105082, significant=True),\n",
       " 'categorical_multi_levels': DatkOneWayAnovaResult(statistic=2.3005161004505177, pvalue=0.07517058079934379, significant=False),\n",
       " 'diff_mean_normal_samples': DatkSpearmanrResult(statistic=-0.00358831799988318, pvalue=0.7197536168000374, significant=False),\n",
       " 'categorical_fishers': DatkTTestResult(statistic=-1.2197051436035442, pvalue=0.22260544229329154, significant=False),\n",
       " 'categorical_nofishers': DatkOneWayAnovaResult(statistic=0.2606583075877409, pvalue=0.7705494004299839, significant=False),\n",
       " 'boolean': \"Input column 'boolean' is not of a valid datatype. Please try again.\"}"
      ]
     },
     "execution_count": 27,
     "metadata": {},
     "output_type": "execute_result"
    }
   ],
   "source": [
    "result_all_1"
   ]
  },
  {
   "cell_type": "code",
   "execution_count": 28,
   "metadata": {},
   "outputs": [
    {
     "name": "stdout",
     "output_type": "stream",
     "text": [
      "\n",
      "\u001b[1mTest 1: categorical_2_levels1 vs normal1\u001b[0m\n",
      "\n",
      "Logistic regression is recommended instead of a statistical test.\n",
      "\n",
      "\u001b[1mTest 2: categorical_2_levels1 vs normal2\u001b[0m\n",
      "\n",
      "Logistic regression is recommended instead of a statistical test.\n",
      "\n",
      "\u001b[1mTest 3: categorical_2_levels1 vs normal3\u001b[0m\n",
      "\n",
      "Logistic regression is recommended instead of a statistical test.\n",
      "\n",
      "\u001b[1mTest 4: categorical_2_levels1 vs non-normal\u001b[0m\n",
      "\n",
      "Logistic regression is recommended instead of a statistical test.\n",
      "\n",
      "\u001b[1mTest 5: categorical_2_levels1 vs dependent_categorical_3_levels\u001b[0m\n",
      "\n",
      "----- Conducted Chi-square Test of Independence -----\n",
      "\n",
      "| categorical_2_levels1   |    A |    B |    C |\n",
      "|:------------------------|-----:|-----:|-----:|\n",
      "| Female                  | 1574 | 2492 | 1035 |\n",
      "| Male                    | 2864 | 1046 |  989 |\n",
      "\n",
      "Chi-square Test of Independence statistic = 963.312454, p-value = 0.000000\n",
      "Level of significance = 0.05\n",
      "Null hypothesis (H0) = Variables are independent from each other\n",
      "Conclusion = Reject null hypothesis (H0)\n",
      "\n",
      "----- Conducted Post-hoc Analysis using Multiple Comparisons Correction -----\n",
      "\n",
      "('A', 'B'): p-value = 3.482469367701404e-211, corrected p-value = 1.0447408103104213e-210, significant = True\n",
      "('A', 'C'): p-value = 1.5043637150254447e-32, corrected p-value = 1.5043637150254447e-32, significant = True\n",
      "('B', 'C'): p-value = 1.1063385068377032e-46, corrected p-value = 1.6595077602565549e-46, significant = True\n",
      "\n",
      "\u001b[1mTest 6: categorical_2_levels1 vs categorical_2_levels2\u001b[0m\n",
      "\n",
      "----- Conducted Chi-square Test of Independence -----\n",
      "\n",
      "| categorical_2_levels1   |   No |   Yes |\n",
      "|:------------------------|-----:|------:|\n",
      "| Female                  | 2550 |  2551 |\n",
      "| Male                    | 2461 |  2438 |\n",
      "\n",
      "Chi-square Test of Independence statistic = 0.050396, p-value = 0.822376\n",
      "Level of significance = 0.05\n",
      "Null hypothesis (H0) = Variables are independent from each other\n",
      "Conclusion = Fail to reject null hypothesis (H0)\n",
      "\n",
      "\u001b[1mTest 7: categorical_2_levels1 vs categorical_multi_levels\u001b[0m\n",
      "\n",
      "----- Conducted Chi-square Test of Independence -----\n",
      "\n",
      "| categorical_2_levels1   |   Blue |   Green |   Orange |   Red |\n",
      "|:------------------------|-------:|--------:|---------:|------:|\n",
      "| Female                  |   1249 |    1294 |     1291 |  1267 |\n",
      "| Male                    |   1189 |    1212 |     1227 |  1271 |\n",
      "\n",
      "Chi-square Test of Independence statistic = 1.713072, p-value = 0.634032\n",
      "Level of significance = 0.05\n",
      "Null hypothesis (H0) = Variables are independent from each other\n",
      "Conclusion = Fail to reject null hypothesis (H0)\n",
      "\n",
      "\u001b[1mTest 8: categorical_2_levels1 vs diff_mean_normal_samples\u001b[0m\n",
      "\n",
      "Logistic regression is recommended instead of a statistical test.\n",
      "\n",
      "\u001b[1mTest 9: categorical_2_levels1 vs categorical_fishers\u001b[0m\n",
      "\n",
      "Fisher's Exact Test is recommended as assumption of Chi-square Test of Independence is violated (Each cell in contingency table should be at least 5) and contingency table is 2x2 in shape.\n",
      "\n",
      "----- Conducted Fisher's Exact Test -----\n",
      "\n",
      "| categorical_2_levels1   |   A |    B |\n",
      "|:------------------------|----:|-----:|\n",
      "| Female                  |   2 | 5099 |\n",
      "| Male                    |   1 | 4898 |\n",
      "\n",
      "Fisher's Exact Test statistic = 1.921161, p-value = 1.000000\n",
      "Level of significance = 0.05\n",
      "Null hypothesis (H0) = Variables are independent from each other\n",
      "Conclusion = Fail to reject null hypothesis (H0)\n",
      "\n",
      "\u001b[1mTest 10: categorical_2_levels1 vs categorical_nofishers\u001b[0m\n",
      "\n",
      "----- Conducted Chi-square Test of Independence -----\n",
      "\n",
      "| categorical_2_levels1   |   A |    B |   C |\n",
      "|:------------------------|----:|-----:|----:|\n",
      "| Female                  |   2 | 5097 |   2 |\n",
      "| Male                    |   3 | 4893 |   3 |\n",
      "\n",
      "Chi-square Test of Independence statistic = 0.485564, p-value = 0.784443\n",
      "Level of significance = 0.05\n",
      "Null hypothesis (H0) = Variables are independent from each other\n",
      "Conclusion = Fail to reject null hypothesis (H0)\n",
      "\n",
      "Assumption of Chi-square Test of Independence is violated (Each cell in contingency table should be at least 5).\n",
      "\n",
      "\u001b[1mTest 11: categorical_2_levels1 vs boolean\u001b[0m\n",
      "\n",
      "Input column 'boolean' is not of a valid datatype. Please try again.\n"
     ]
    }
   ],
   "source": [
    "result_all_2 = test.autostatstest_all(\"categorical_2_levels1\")"
   ]
  },
  {
   "cell_type": "code",
   "execution_count": 29,
   "metadata": {},
   "outputs": [
    {
     "data": {
      "text/plain": [
       "{'normal1': 'Logistic regression is recommended instead of a statistical test.',\n",
       " 'normal2': 'Logistic regression is recommended instead of a statistical test.',\n",
       " 'normal3': 'Logistic regression is recommended instead of a statistical test.',\n",
       " 'non-normal': 'Logistic regression is recommended instead of a statistical test.',\n",
       " 'dependent_categorical_3_levels': {'chi2': DatkChi2Result(statistic=963.3124544371774, pvalue=6.597180166003396e-210, significant=True),\n",
       "  'post-hoc': [DatkChi2PostHocResult(combi=('A', 'B'), pvalue=3.482469367701404e-211, significant=True, corrected_pvalue=1.0447408103104213e-210),\n",
       "   DatkChi2PostHocResult(combi=('A', 'C'), pvalue=1.5043637150254447e-32, significant=True, corrected_pvalue=1.5043637150254447e-32),\n",
       "   DatkChi2PostHocResult(combi=('B', 'C'), pvalue=1.1063385068377032e-46, significant=True, corrected_pvalue=1.6595077602565549e-46)]},\n",
       " 'categorical_2_levels2': DatkChi2Result(statistic=0.050395916502479376, pvalue=0.8223757761862471, significant=False),\n",
       " 'categorical_multi_levels': DatkChi2Result(statistic=1.7130716212390793, pvalue=0.6340315960187817, significant=False),\n",
       " 'diff_mean_normal_samples': 'Logistic regression is recommended instead of a statistical test.',\n",
       " 'categorical_fishers': DatkFishersTestResult(statistic=1.92116101196313, pvalue=1.0, significant=False),\n",
       " 'categorical_nofishers': DatkChi2Result(statistic=0.48556389525758636, pvalue=0.7844425446809743, significant=False),\n",
       " 'boolean': \"Input column 'boolean' is not of a valid datatype. Please try again.\"}"
      ]
     },
     "execution_count": 29,
     "metadata": {},
     "output_type": "execute_result"
    }
   ],
   "source": [
    "result_all_2"
   ]
  },
  {
   "cell_type": "markdown",
   "metadata": {},
   "source": [
    "# INDIVIDUAL STATISTICAL TESTS"
   ]
  },
  {
   "cell_type": "code",
   "execution_count": 30,
   "metadata": {},
   "outputs": [
    {
     "name": "stdout",
     "output_type": "stream",
     "text": [
      "<class 'pandas.core.frame.DataFrame'>\n",
      "RangeIndex: 10000 entries, 0 to 9999\n",
      "Data columns (total 12 columns):\n",
      " #   Column                          Non-Null Count  Dtype  \n",
      "---  ------                          --------------  -----  \n",
      " 0   normal1                         10000 non-null  float64\n",
      " 1   normal2                         10000 non-null  float64\n",
      " 2   normal3                         10000 non-null  float64\n",
      " 3   non-normal                      10000 non-null  float64\n",
      " 4   categorical_2_levels1           10000 non-null  object \n",
      " 5   dependent_categorical_3_levels  10000 non-null  object \n",
      " 6   categorical_2_levels2           10000 non-null  object \n",
      " 7   categorical_multi_levels        10000 non-null  object \n",
      " 8   diff_mean_normal_samples        10000 non-null  float64\n",
      " 9   categorical_fishers             10000 non-null  object \n",
      " 10  categorical_nofishers           10000 non-null  object \n",
      " 11  boolean                         10000 non-null  bool   \n",
      "dtypes: bool(1), float64(5), object(6)\n",
      "memory usage: 869.3+ KB\n"
     ]
    }
   ],
   "source": [
    "df.info()"
   ]
  },
  {
   "cell_type": "code",
   "execution_count": 31,
   "metadata": {},
   "outputs": [
    {
     "name": "stdout",
     "output_type": "stream",
     "text": [
      "\n",
      "----- Conducted Pearson's Correlation -----\n",
      "\n",
      "Pearson's Correlation statistic = 0.006323, p-value = 0.527231\n",
      "Level of significance = 0.05\n",
      "Null hypothesis (H0) = No linear relationship between the variables\n",
      "Conclusion = Fail to reject null hypothesis (H0)\n"
     ]
    }
   ],
   "source": [
    "result_pearsons = pearsonr_test(var1 = df[\"normal1\"], var2 = df[\"normal2\"], alpha = 0.05)"
   ]
  },
  {
   "cell_type": "code",
   "execution_count": 32,
   "metadata": {},
   "outputs": [
    {
     "name": "stdout",
     "output_type": "stream",
     "text": [
      "\n",
      "----- Conducted Chi-square Test of Independence -----\n",
      "\n",
      "| categorical_2_levels1   |    A |    B |    C |\n",
      "|:------------------------|-----:|-----:|-----:|\n",
      "| Female                  | 1574 | 2492 | 1035 |\n",
      "| Male                    | 2864 | 1046 |  989 |\n",
      "\n",
      "Chi-square Test of Independence statistic = 963.312454, p-value = 0.000000\n",
      "Level of significance = 0.05\n",
      "Null hypothesis (H0) = Variables are independent from each other\n",
      "Conclusion = Reject null hypothesis (H0)\n"
     ]
    }
   ],
   "source": [
    "observed = pd.crosstab(df[\"categorical_2_levels1\"], df[\"dependent_categorical_3_levels\"])\n",
    "\n",
    "result_chi2 = chisquare_test(observed = observed, alpha = 0.05)"
   ]
  },
  {
   "cell_type": "code",
   "execution_count": 33,
   "metadata": {},
   "outputs": [
    {
     "name": "stdout",
     "output_type": "stream",
     "text": [
      "\n",
      "----- Conducted Post-hoc Analysis using Multiple Comparisons Correction -----\n",
      "\n",
      "('A', 'B'): p-value = 3.482469367701404e-211, corrected p-value = 1.0447408103104213e-210, significant = True\n",
      "('A', 'C'): p-value = 1.5043637150254447e-32, corrected p-value = 1.5043637150254447e-32, significant = True\n",
      "('B', 'C'): p-value = 1.1063385068377032e-46, corrected p-value = 1.6595077602565549e-46, significant = True\n"
     ]
    }
   ],
   "source": [
    "result_chi2_posthoc = chisquare_posthoc_test(df = observed, alpha = 0.05)"
   ]
  }
 ],
 "metadata": {
  "kernelspec": {
   "display_name": "Python 3",
   "language": "python",
   "name": "python3"
  },
  "language_info": {
   "codemirror_mode": {
    "name": "ipython",
    "version": 3
   },
   "file_extension": ".py",
   "mimetype": "text/x-python",
   "name": "python",
   "nbconvert_exporter": "python",
   "pygments_lexer": "ipython3",
   "version": "3.11.3"
  },
  "orig_nbformat": 4
 },
 "nbformat": 4,
 "nbformat_minor": 2
}
